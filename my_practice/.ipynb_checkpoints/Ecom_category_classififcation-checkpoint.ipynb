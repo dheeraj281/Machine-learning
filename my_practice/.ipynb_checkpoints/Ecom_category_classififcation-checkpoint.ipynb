{
 "cells": [
  {
   "cell_type": "code",
   "execution_count": 2,
   "id": "76a18be7-285a-498c-a7a4-5809143bd532",
   "metadata": {},
   "outputs": [
    {
     "name": "stdout",
     "output_type": "stream",
     "text": [
      "WARNING:tensorflow:From /Users/dheeraj/miniforge3/envs/ml/lib/python3.8/site-packages/tensorflow/python/ops/distributions/distribution.py:259: ReparameterizationType.__init__ (from tensorflow.python.ops.distributions.distribution) is deprecated and will be removed after 2019-01-01.\n",
      "Instructions for updating:\n",
      "The TensorFlow Distributions library has moved to TensorFlow Probability (https://github.com/tensorflow/probability). You should update all references to use `tfp.distributions` instead of `tf.distributions`.\n",
      "WARNING:tensorflow:From /Users/dheeraj/miniforge3/envs/ml/lib/python3.8/site-packages/tensorflow/python/ops/distributions/bernoulli.py:165: RegisterKL.__init__ (from tensorflow.python.ops.distributions.kullback_leibler) is deprecated and will be removed after 2019-01-01.\n",
      "Instructions for updating:\n",
      "The TensorFlow Distributions library has moved to TensorFlow Probability (https://github.com/tensorflow/probability). You should update all references to use `tfp.distributions` instead of `tf.distributions`.\n"
     ]
    }
   ],
   "source": [
    "import csv\n",
    "import random\n",
    "import pickle\n",
    "import numpy as np\n",
    "import tensorflow as tf\n",
    "from tensorflow.keras.preprocessing.text import Tokenizer\n",
    "from tensorflow.keras.preprocessing.sequence import pad_sequences\n",
    "import matplotlib.pyplot as plt\n",
    "from scipy.stats import linregress"
   ]
  },
  {
   "cell_type": "code",
   "execution_count": 4,
   "id": "cc329ea7-de4b-4b36-bb92-1e26689a25dc",
   "metadata": {},
   "outputs": [
    {
     "name": "stdout",
     "output_type": "stream",
     "text": [
      "Household,\"Paper Plane Design Framed Wall Hanging Motivational Office Decor Art Prints (8.7 X 8.7 inch) - Set of 4 Painting made up in synthetic frame with uv textured print which gives multi effects and attracts towards it. This is an special series of paintings which makes your wall very beautiful and gives a royal touch. This painting is ready to hang, you would be proud to possess this unique painting that is a niche apart. We use only the most modern and efficient printing technology on our prints, with only the and inks and precision epson, roland and hp printers. This innovative hd printing technique results in durable and spectacular looking prints of the highest that last a lifetime. We print solely with top-notch 100% inks, to achieve brilliant and true colours. Due to their high level of uv resistance, our prints retain their beautiful colours for many years. Add colour and style to your living space with this digitally printed painting. Some are for pleasure and some for eternal bliss.so bring home this elegant print that is lushed with rich colors that makes it nothing but sheer elegance to be to your friends and family.it would be treasured forever by whoever your lucky recipient is. Liven up your place with these intriguing paintings that are high definition hd graphic digital prints for home, office or any room.\"\n",
      "\n",
      "Household,\"SAF 'Floral' Framed Painting (Wood, 30 inch x 10 inch, Special Effect UV Print Textured, SAO297) Painting made up in synthetic frame with UV textured print which gives multi effects and attracts towards it. This is an special series of paintings which makes your wall very beautiful and gives a royal touch (A perfect gift for your special ones).\"\n",
      "\n",
      "Household,\"SAF 'UV Textured Modern Art Print Framed' Painting (Synthetic, 35 cm x 50 cm x 3 cm, Set of 3) Color:Multicolor                                                                                 |                            Size:35 cm x 50 cm x 3 cm   Overview a beautiful painting involves the action or skill of using paint in the right manner; hence, the end product will be a picture that can speak a thousand words they say. Arts have been in trend for quite some time now. It can give different viewer different meanings style and design the SAF wood matte abstract painting with frame is quite abstract and mysteriously beautiful. The painting has a nice frame to it. You can gift this to a family or a friend. The painting has various forms of certain figures on it as seen in the image. You can add a good set of lights to the place where the painting is and the decor will give a different feel and look to the place. Quality and durability the painting has a matte finish and includes a good quality frame and will last for a long period. However, it does not include glass along with the frame. Specifications you can purchase SAF wood matte abstract painting with frame on amazon.in. It is the most customer-friendly platform with a wide range of products to choose from, and shopping is just a click away!\"\n",
      "\n"
     ]
    }
   ],
   "source": [
    "with open(\"ecommerceDataset.csv\") as csvfile:\n",
    "    print(csvfile.readline())\n",
    "    print(csvfile.readline())\n",
    "    print(csvfile.readline())"
   ]
  },
  {
   "cell_type": "code",
   "execution_count": 56,
   "id": "ab5c4c6f-b9a7-4c2e-adbc-3d2f1100a88e",
   "metadata": {},
   "outputs": [],
   "source": [
    "sents = []\n",
    "labels = []\n",
    "\n",
    "with open(\"ecommerceDataset.csv\") as csvfile:\n",
    "    reader = csv.reader(csvfile, delimiter=',')\n",
    "    next(reader)\n",
    "    for row in reader:\n",
    "        sents.append(row[1])\n",
    "        labels.append(row[0])"
   ]
  },
  {
   "cell_type": "code",
   "execution_count": 57,
   "id": "d6277161-e164-438c-b575-a86aaba873f6",
   "metadata": {},
   "outputs": [
    {
     "name": "stdout",
     "output_type": "stream",
     "text": [
      "There are 25000 sentences and 25000 labels after random sampling\n",
      "\n"
     ]
    }
   ],
   "source": [
    "sentences_and_labels = list(zip(sents, labels))\n",
    "\n",
    "# Perform random sampling\n",
    "random.seed(42)\n",
    "sentences_and_labels = random.sample(sentences_and_labels,25000)\n",
    "\n",
    "# Unpack back into separate lists\n",
    "sentences, labels = zip(*sentences_and_labels)\n",
    "\n",
    "print(f\"There are {len(sentences)} sentences and {len(labels)} labels after random sampling\\n\")"
   ]
  },
  {
   "cell_type": "code",
   "execution_count": 58,
   "id": "350099af-57c6-4b13-8140-906575b17e12",
   "metadata": {},
   "outputs": [],
   "source": [
    "# Create a dictionary to map labels to numerical values\n",
    "label_to_num = {}\n",
    "encoded_labels = []\n",
    "\n",
    "# Iterate through the original labels\n",
    "for label in labels:\n",
    "    # Check if the label is already in the dictionary, if not, add it\n",
    "    if label not in label_to_num:\n",
    "        label_to_num[label] = len(label_to_num)\n",
    "    # Append the numerical value to the numerical_labels list\n",
    "    encoded_labels.append(label_to_num[label])\n",
    "    \n",
    "labels = encoded_labels"
   ]
  },
  {
   "cell_type": "code",
   "execution_count": 60,
   "id": "c820a13c-4bba-4b1f-b5de-728e7bfb6ebd",
   "metadata": {},
   "outputs": [],
   "source": [
    "train_size = round(len(sentences) * 0.8)\n",
    "\n",
    "# Split the sentences and labels into train/validation splits\n",
    "train_sentences = sentences[0:train_size]\n",
    "train_labels = labels[0:train_size]\n",
    "\n",
    "validation_sentences = sentences[train_size:]\n",
    "validation_labels = labels[train_size:]"
   ]
  },
  {
   "cell_type": "code",
   "execution_count": 61,
   "id": "33f7b4ff-385d-4281-9b6d-34390eb554c4",
   "metadata": {},
   "outputs": [
    {
     "name": "stdout",
     "output_type": "stream",
     "text": [
      "There are 20000 sentences for training.\n",
      "\n",
      "There are 20000 labels for training.\n",
      "\n",
      "There are 5000 sentences for validation.\n",
      "\n",
      "There are 5000 labels for validation.\n"
     ]
    }
   ],
   "source": [
    "print(f\"There are {len(train_sentences)} sentences for training.\\n\")\n",
    "print(f\"There are {len(train_labels)} labels for training.\\n\")\n",
    "print(f\"There are {len(validation_sentences)} sentences for validation.\\n\")\n",
    "print(f\"There are {len(validation_labels)} labels for validation.\")"
   ]
  },
  {
   "cell_type": "code",
   "execution_count": 62,
   "id": "b27ff695-ab0f-4f0c-bf90-fdce5b7137dd",
   "metadata": {},
   "outputs": [],
   "source": [
    "tokenizer = Tokenizer(oov_token = \"<OOV>\")\n",
    "tokenizer.fit_on_texts(train_sentences)"
   ]
  },
  {
   "cell_type": "code",
   "execution_count": 63,
   "id": "8e34fb26-e43c-45ce-ac1b-ad9257d5c607",
   "metadata": {},
   "outputs": [],
   "source": [
    "word_index = tokenizer.word_index\n",
    "VOCAB_SIZE = len(word_index)"
   ]
  },
  {
   "cell_type": "code",
   "execution_count": 64,
   "id": "71b3a2e3-b5f3-49e6-9e53-aaa47b5c868a",
   "metadata": {},
   "outputs": [],
   "source": [
    "train_seqs = tokenizer.texts_to_sequences(train_sentences)\n",
    "val_seqs = tokenizer.texts_to_sequences(validation_sentences)"
   ]
  },
  {
   "cell_type": "code",
   "execution_count": 65,
   "id": "0dd9fdc1-6ebd-4431-8f7f-330783aa1eab",
   "metadata": {},
   "outputs": [],
   "source": [
    "train_pad_sqs = pad_sequences(train_seqs,maxlen=40,padding=\"post\",truncating=\"post\")\n",
    "val_pad_seqs = pad_sequences(val_seqs,maxlen=40,padding=\"post\",truncating=\"post\")"
   ]
  },
  {
   "cell_type": "code",
   "execution_count": 66,
   "id": "e6482ef3-411b-4ec0-8d79-dba0726cdb5c",
   "metadata": {},
   "outputs": [
    {
     "name": "stdout",
     "output_type": "stream",
     "text": [
      "Padded and truncated training sequences have shape: (20000, 40)\n",
      "\n",
      "Padded and truncated validation sequences have shape: (5000, 40)\n"
     ]
    }
   ],
   "source": [
    "print(f\"Padded and truncated training sequences have shape: {train_pad_sqs.shape}\\n\")\n",
    "print(f\"Padded and truncated validation sequences have shape: {val_pad_seqs.shape}\")"
   ]
  },
  {
   "cell_type": "code",
   "execution_count": 83,
   "id": "56919dc3-f450-4eb7-8524-76604ce465ce",
   "metadata": {},
   "outputs": [
    {
     "data": {
      "text/plain": [
       "{0, 1, 2, 3}"
      ]
     },
     "execution_count": 83,
     "metadata": {},
     "output_type": "execute_result"
    }
   ],
   "source": [
    "set(val_labels)"
   ]
  },
  {
   "cell_type": "code",
   "execution_count": 74,
   "id": "e109800f-ae69-4ae6-aa99-bbb942903e5c",
   "metadata": {},
   "outputs": [],
   "source": [
    "\n",
    "train_labels = np.array(train_labels)\n",
    "val_labels = np.array(validation_labels)"
   ]
  },
  {
   "cell_type": "code",
   "execution_count": 99,
   "id": "28eafdd4-5823-4878-a712-e51f628e21d3",
   "metadata": {},
   "outputs": [],
   "source": [
    "model = tf.keras.models.Sequential(\n",
    "    [\n",
    "        tf.keras.layers.Embedding(input_dim=VOCAB_SIZE,output_dim=32,input_length=40),\n",
    "        tf.keras.layers.LSTM(64,return_sequences=True, dropout=.5),\n",
    "        tf.keras.layers.LSTM(32, dropout=.5),\n",
    "        tf.keras.layers.Dense(8, activation='relu'),\n",
    "        tf.keras.layers.Dense(4, activation='softmax')\n",
    "    ]\n",
    ")\n",
    "\n",
    "model.compile(\n",
    "    loss='sparse_categorical_crossentropy',\n",
    "    optimizer=\"adam\",\n",
    "    metrics=['accuracy']\n",
    ")"
   ]
  },
  {
   "cell_type": "code",
   "execution_count": 100,
   "id": "9ecf307c-4631-4611-b3bb-17487ba5de6b",
   "metadata": {},
   "outputs": [
    {
     "name": "stdout",
     "output_type": "stream",
     "text": [
      "Epoch 1/10\n"
     ]
    },
    {
     "name": "stderr",
     "output_type": "stream",
     "text": [
      "2023-09-24 17:14:32.627110: I tensorflow/core/grappler/optimizers/custom_graph_optimizer_registry.cc:114] Plugin optimizer for device_type GPU is enabled.\n",
      "2023-09-24 17:14:32.814833: I tensorflow/core/grappler/optimizers/custom_graph_optimizer_registry.cc:114] Plugin optimizer for device_type GPU is enabled.\n",
      "2023-09-24 17:14:32.870573: I tensorflow/core/grappler/optimizers/custom_graph_optimizer_registry.cc:114] Plugin optimizer for device_type GPU is enabled.\n",
      "2023-09-24 17:14:33.209179: I tensorflow/core/grappler/optimizers/custom_graph_optimizer_registry.cc:114] Plugin optimizer for device_type GPU is enabled.\n",
      "2023-09-24 17:14:33.320169: I tensorflow/core/grappler/optimizers/custom_graph_optimizer_registry.cc:114] Plugin optimizer for device_type GPU is enabled.\n"
     ]
    },
    {
     "name": "stdout",
     "output_type": "stream",
     "text": [
      "623/625 [============================>.] - ETA: 0s - loss: 0.4887 - accuracy: 0.8289"
     ]
    },
    {
     "name": "stderr",
     "output_type": "stream",
     "text": [
      "2023-09-24 17:14:48.658855: I tensorflow/core/grappler/optimizers/custom_graph_optimizer_registry.cc:114] Plugin optimizer for device_type GPU is enabled.\n",
      "2023-09-24 17:14:48.736726: I tensorflow/core/grappler/optimizers/custom_graph_optimizer_registry.cc:114] Plugin optimizer for device_type GPU is enabled.\n",
      "2023-09-24 17:14:48.782790: I tensorflow/core/grappler/optimizers/custom_graph_optimizer_registry.cc:114] Plugin optimizer for device_type GPU is enabled.\n"
     ]
    },
    {
     "name": "stdout",
     "output_type": "stream",
     "text": [
      "625/625 [==============================] - 18s 27ms/step - loss: 0.4882 - accuracy: 0.8291 - val_loss: 0.2165 - val_accuracy: 0.9464\n",
      "Epoch 2/10\n",
      "625/625 [==============================] - 13s 21ms/step - loss: 0.1565 - accuracy: 0.9576 - val_loss: 0.1914 - val_accuracy: 0.9508\n",
      "Epoch 3/10\n",
      "625/625 [==============================] - 13s 21ms/step - loss: 0.0934 - accuracy: 0.9763 - val_loss: 0.1456 - val_accuracy: 0.9636\n",
      "Epoch 4/10\n",
      "625/625 [==============================] - 13s 21ms/step - loss: 0.0592 - accuracy: 0.9857 - val_loss: 0.1479 - val_accuracy: 0.9636\n",
      "Epoch 5/10\n",
      "625/625 [==============================] - 13s 20ms/step - loss: 0.0453 - accuracy: 0.9894 - val_loss: 0.1468 - val_accuracy: 0.9694\n",
      "Epoch 6/10\n",
      "625/625 [==============================] - 13s 20ms/step - loss: 0.0351 - accuracy: 0.9918 - val_loss: 0.1646 - val_accuracy: 0.9594\n",
      "Epoch 7/10\n",
      "625/625 [==============================] - 13s 20ms/step - loss: 0.0308 - accuracy: 0.9932 - val_loss: 0.1773 - val_accuracy: 0.9656\n",
      "Epoch 8/10\n",
      "625/625 [==============================] - 13s 20ms/step - loss: 0.0343 - accuracy: 0.9912 - val_loss: 0.1896 - val_accuracy: 0.9620\n",
      "Epoch 9/10\n",
      "625/625 [==============================] - 13s 20ms/step - loss: 0.0494 - accuracy: 0.9890 - val_loss: 0.1902 - val_accuracy: 0.9600\n",
      "Epoch 10/10\n",
      "625/625 [==============================] - 13s 20ms/step - loss: 0.0340 - accuracy: 0.9931 - val_loss: 0.1694 - val_accuracy: 0.9670\n"
     ]
    }
   ],
   "source": [
    "history = model.fit(train_pad_sqs,train_labels,epochs=10, validation_data=(val_pad_seqs, val_labels))"
   ]
  },
  {
   "cell_type": "code",
   "execution_count": 101,
   "id": "79026fae-e60f-471d-be2e-4c1e68d2e995",
   "metadata": {},
   "outputs": [
    {
     "data": {
      "image/png": "[encoded data removed]",
      "text/plain": [
       "<Figure size 640x480 with 1 Axes>"
      ]
     },
     "metadata": {},
     "output_type": "display_data"
    }
   ],
   "source": [
    "#-----------------------------------------------------------\n",
    "# Retrieve a list of list results on training and test data\n",
    "# sets for each training epoch\n",
    "#-----------------------------------------------------------\n",
    "loss = history.history['loss']\n",
    "val_loss = history.history['val_loss']\n",
    "\n",
    "epochs = [*range(10)]\n",
    "\n",
    "#------------------------------------------------\n",
    "# Plot training and validation loss per epoch\n",
    "#------------------------------------------------\n",
    "plt.plot(epochs, loss, 'r')\n",
    "plt.plot(epochs, val_loss, 'b')\n",
    "plt.title('Training and validation loss')\n",
    "plt.xlabel(\"Epochs\")\n",
    "plt.ylabel(\"Loss\")\n",
    "plt.legend([\"Loss\", \"Validation Loss\"])\n",
    "plt.show()"
   ]
  },
  {
   "cell_type": "code",
   "execution_count": 102,
   "id": "c1c4b7bc-f037-4432-8bae-35d5afcc2180",
   "metadata": {},
   "outputs": [
    {
     "name": "stdout",
     "output_type": "stream",
     "text": [
      "The slope of your validation loss curve is -0.00065\n"
     ]
    }
   ],
   "source": [
    "import matplotlib.pyplot as plt\n",
    "from scipy.stats import linregress\n",
    "\n",
    "# Test the slope of your val_loss curve. val_loss curve should be 0.0005 at maximum.\n",
    "slope, *_ = linregress(epochs, val_loss)\n",
    "print(f\"The slope of your validation loss curve is {slope:.5f}\")"
   ]
  },
  {
   "cell_type": "code",
   "execution_count": 97,
   "id": "3395f03e-41e7-4a44-87cc-28a13e2ba118",
   "metadata": {},
   "outputs": [
    {
     "data": {
      "text/plain": [
       "True"
      ]
     },
     "execution_count": 97,
     "metadata": {},
     "output_type": "execute_result"
    }
   ],
   "source": [
    " 0.00202 > 0.0005"
   ]
  },
  {
   "cell_type": "code",
   "execution_count": null,
   "id": "b5557d92-0573-4534-b822-aeff95502451",
   "metadata": {},
   "outputs": [],
   "source": []
  }
 ],
 "metadata": {
  "kernelspec": {
   "display_name": "Python 3 (ipykernel)",
   "language": "python",
   "name": "python3"
  },
  "language_info": {
   "codemirror_mode": {
    "name": "ipython",
    "version": 3
   },
   "file_extension": ".py",
   "mimetype": "text/x-python",
   "name": "python",
   "nbconvert_exporter": "python",
   "pygments_lexer": "ipython3",
   "version": "3.8.16"
  }
 },
 "nbformat": 4,
 "nbformat_minor": 5
}
