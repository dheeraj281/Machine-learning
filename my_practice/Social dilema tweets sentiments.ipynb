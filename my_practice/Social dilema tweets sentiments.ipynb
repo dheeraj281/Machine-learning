{
 "cells": [
  {
   "cell_type": "code",
   "execution_count": 2,
   "id": "677dced4-c998-4725-ad0c-f4882fa0549f",
   "metadata": {},
   "outputs": [
    {
     "name": "stdout",
     "output_type": "stream",
     "text": [
      "WARNING:tensorflow:From /Users/dheeraj/miniforge3/envs/ml/lib/python3.8/site-packages/tensorflow/python/ops/distributions/distribution.py:259: ReparameterizationType.__init__ (from tensorflow.python.ops.distributions.distribution) is deprecated and will be removed after 2019-01-01.\n",
      "Instructions for updating:\n",
      "The TensorFlow Distributions library has moved to TensorFlow Probability (https://github.com/tensorflow/probability). You should update all references to use `tfp.distributions` instead of `tf.distributions`.\n",
      "WARNING:tensorflow:From /Users/dheeraj/miniforge3/envs/ml/lib/python3.8/site-packages/tensorflow/python/ops/distributions/bernoulli.py:165: RegisterKL.__init__ (from tensorflow.python.ops.distributions.kullback_leibler) is deprecated and will be removed after 2019-01-01.\n",
      "Instructions for updating:\n",
      "The TensorFlow Distributions library has moved to TensorFlow Probability (https://github.com/tensorflow/probability). You should update all references to use `tfp.distributions` instead of `tf.distributions`.\n"
     ]
    }
   ],
   "source": [
    "import csv,random,pickle,os,zipfile,string,keras\n",
    "import numpy as np\n",
    "import tensorflow as tf\n",
    "import matplotlib.pyplot as plt\n",
    "import pandas as pd\n",
    "import tensorflow_hub as hub\n",
    "#########################################################\n",
    "from tensorflow.keras.preprocessing.text import Tokenizer\n",
    "from tensorflow.keras.preprocessing.sequence import pad_sequences\n",
    "###################################################################\n",
    "from nltk import WordNetLemmatizer, PorterStemmer\n",
    "from nltk.corpus import stopwords\n",
    "from nltk.tokenize import word_tokenize\n",
    "#########################################################\n",
    "from keras.utils import to_categorical\n",
    "from keras.callbacks import EarlyStopping, ReduceLROnPlateau\n",
    "from keras.layers import TextVectorization\n",
    "#########################################################\n",
    "from sklearn.preprocessing import LabelEncoder\n",
    "from sklearn.model_selection import train_test_split\n",
    "from sklearn.utils import resample\n",
    "#########################################################\n",
    "from scipy.stats import linregress\n",
    "from unidecode import unidecode"
   ]
  },
  {
   "cell_type": "code",
   "execution_count": 31,
   "id": "f7c42c02-eb4e-4066-a030-08e07bca5b95",
   "metadata": {},
   "outputs": [],
   "source": [
    "cList = {\n",
    "    \"i`m\": \"i am\",\n",
    "    \"you`re\": \"you are\",\n",
    "    \"it`s\": \"it is\",\n",
    "    \"we`re\": \"we are\",\n",
    "    \"we`ll\": \"we will\",\n",
    "    \"That`s\": \"that is\",\n",
    "    \"haven`t\": \"have not\",\n",
    "    \"let`s\": \"let us\",\n",
    "    \"ain`t\": \"am not / are not / is not / has not / have not\",\n",
    "    \"aren`t\": \"are not / am not\",\n",
    "    \"can`t\": \"cannot\",\n",
    "    \"can`t`ve\": \"cannot have\",\n",
    "    \"`cause\": \"because\",\n",
    "    \"could`ve\": \"could have\",\n",
    "    \"couldn`t\": \"could not\",\n",
    "    \"couldn`t`ve\": \"could not have\",\n",
    "    \"didn`t\": \"did not\",\n",
    "    \"doesn`t\": \"does not\",\n",
    "    \"don`t\": \"do not\",\n",
    "    \"hadn`t\": \"had not\",\n",
    "    \"hadn`t`ve\": \"had not have\",\n",
    "    \"hasn`t\": \"has not\",\n",
    "    \"haven`t\": \"have not\",\n",
    "    \"he`d\": \"he had / he would\",\n",
    "    \"he`d`ve\": \"he would have\",\n",
    "    \"he`ll\": \"he shall / he will\",\n",
    "    \"he`ll`ve\": \"he shall have / he will have\",\n",
    "    \"he`s\": \"he has / he is\",\n",
    "    \"how`d\": \"how did\",\n",
    "    \"how`d`y\": \"how do you\",\n",
    "    \"how`ll\": \"how will\",\n",
    "    \"how`s\": \"how has / how is / how does\",\n",
    "    \"I`d\": \"I had / I would\",\n",
    "    \"I`d`ve\": \"I would have\",\n",
    "    \"I`ll\": \"I shall / I will\",\n",
    "    \"I`ll`ve\": \"I shall have / I will have\",\n",
    "    \"I`m\": \"I am\",\n",
    "    \"I`ve\": \"I have\",\n",
    "    \"isn`t\": \"is not\",\n",
    "    \"it`d\": \"it had / it would\",\n",
    "    \"it`d`ve\": \"it would have\",\n",
    "    \"it`ll\": \"it shall / it will\",\n",
    "    \"it`ll`ve\": \"it shall have / it will have\",\n",
    "    \"it`s\": \"it has / it is\",\n",
    "    \"let`s\": \"let us\",\n",
    "    \"ma`am\": \"madam\",\n",
    "    \"mayn`t\": \"may not\",\n",
    "    \"might`ve\": \"might have\",\n",
    "    \"mightn`t\": \"might not\",\n",
    "    \"mightn`t`ve\": \"might not have\",\n",
    "    \"must`ve\": \"must have\",\n",
    "    \"mustn`t\": \"must not\",\n",
    "    \"mustn`t`ve\": \"must not have\",\n",
    "    \"needn`t\": \"need not\",\n",
    "    \"needn`t`ve\": \"need not have\",\n",
    "    \"o`clock\": \"of the clock\",\n",
    "    \"oughtn`t\": \"ought not\",\n",
    "    \"oughtn`t`ve\": \"ought not have\",\n",
    "    \"shan`t\": \"shall not\",\n",
    "    \"sha`n`t\": \"shall not\",\n",
    "    \"shan`t`ve\": \"shall not have\",\n",
    "    \"she`d\": \"she had / she would\",\n",
    "    \"she`d`ve\": \"she would have\",\n",
    "    \"she`ll\": \"she shall / she will\",\n",
    "    \"she`ll`ve\": \"she shall have / she will have\",\n",
    "    \"she`s\": \"she has / she is\",\n",
    "    \"should`ve\": \"should have\",\n",
    "    \"shouldn`t\": \"should not\",\n",
    "    \"shouldn`t`ve\": \"should not have\",\n",
    "    \"so`ve\": \"so have\",\n",
    "    \"so`s\": \"so as / so is\",\n",
    "    \"that`d\": \"that would / that had\",\n",
    "    \"that`d`ve\": \"that would have\",\n",
    "    \"that`s\": \"that has / that is\",\n",
    "    \"there`d\": \"there had / there would\",\n",
    "    \"there`d`ve\": \"there would have\",\n",
    "    \"there`s\": \"there has / there is\",\n",
    "    \"they`d\": \"they had / they would\",\n",
    "    \"they`d`ve\": \"they would have\",\n",
    "    \"they`ll\": \"they shall / they will\",\n",
    "    \"they`ll`ve\": \"they shall have / they will have\",\n",
    "    \"they`re\": \"they are\",\n",
    "    \"they`ve\": \"they have\",\n",
    "    \"to`ve\": \"to have\",\n",
    "    \"wasn`t\": \"was not\",\n",
    "    \"we`d\": \"we had / we would\",\n",
    "    \"we`d`ve\": \"we would have\",\n",
    "    \"we`ll\": \"we will\",\n",
    "    \"we`ll`ve\": \"we will have\",\n",
    "    \"we`re\": \"we are\",\n",
    "    \"we`ve\": \"we have\",\n",
    "    \"weren`t\": \"were not\",\n",
    "    \"what`ll\": \"what shall / what will\",\n",
    "    \"what`ll`ve\": \"what shall have / what will have\",\n",
    "    \"what`re\": \"what are\",\n",
    "    \"what`s\": \"what has / what is\",\n",
    "    \"what`ve\": \"what have\",\n",
    "    \"when`s\": \"when has / when is\",\n",
    "    \"when`ve\": \"when have\",\n",
    "    \"where`d\": \"where did\",\n",
    "    \"where`s\": \"where has / where is\",\n",
    "    \"where`ve\": \"where have\",\n",
    "    \"who`ll\": \"who shall / who will\",\n",
    "    \"who`ll`ve\": \"who shall have / who will have\",\n",
    "    \"who`s\": \"who has / who is\",\n",
    "    \"who`ve\": \"who have\",\n",
    "    \"why`s\": \"why has / why is\",\n",
    "    \"why`ve\": \"why have\",\n",
    "    \"will`ve\": \"will have\",\n",
    "    \"won`t\": \"will not\",\n",
    "    \"won`t`ve\": \"will not have\",\n",
    "    \"would`ve\": \"would have\",\n",
    "    \"wouldn`t\": \"would not\",\n",
    "    \"wouldn`t`ve\": \"would not have\",\n",
    "    \"y`all\": \"you all\",\n",
    "    \"y`all`d\": \"you all would\",\n",
    "    \"y`all`d`ve\": \"you all would have\",\n",
    "    \"y`all`re\": \"you all are\",\n",
    "    \"y`all`ve\": \"you all have\",\n",
    "    \"you`d\": \"you had / you would\",\n",
    "    \"you`d`ve\": \"you would have\",\n",
    "    \"you`ll\": \"you shall / you will\",\n",
    "    \"you`ll`ve\": \"you shall have / you will have\",\n",
    "    \"you`re\": \"you are\",\n",
    "    \"you`ve\": \"you have\"\n",
    "}\n",
    "\n",
    "extra_punctuations = ['', '.', '``', '...', '\\'s', '--', '-', 'n\\'t', '_', '–', '&']\n",
    "stopword_list = stopwords.words('english') + list(string.punctuation) + extra_punctuations + ['u', 'the', 'us', 'say',\n",
    "                                                                                              'that', 'he', 'me', 'she',\n",
    "                                                                                              'get', 'rt', 'it', 'mt',\n",
    "                                                                                              'via', 'not', 'and',\n",
    "                                                                                              'let', 'so', 'say',\n",
    "                                                                                              'dont', 'use', 'you',\n",
    "                                                                                              'null']\n",
    "import regex as re\n",
    "\n",
    "c_re = re.compile('(%s)' % '|'.join(cList.keys()))\n",
    "\n",
    "\n",
    "def expandContractions(text, c_re=c_re):\n",
    "    def replace(match):\n",
    "        return cList[match.group(0)]\n",
    "\n",
    "    return c_re.sub(replace, text)\n",
    "\n",
    "\n",
    "def remove_emoji(string):\n",
    "    emoji_pattern = re.compile(\"[\"\n",
    "                               u\"\\U0001F600-\\U0001F64F\"  # emoticons\n",
    "                               u\"\\U0001F300-\\U0001F5FF\"  # symbols & pictographs\n",
    "                               u\"\\U0001F680-\\U0001F6FF\"  # transport & map symbols\n",
    "                               u\"\\U0001F1E0-\\U0001F1FF\"  # flags (iOS)\n",
    "                               u\"\\U00002702-\\U000027B0\"\n",
    "                               u\"\\U000024C2-\\U0001F251\"\n",
    "                               \"]+\", flags=re.UNICODE)\n",
    "    return emoji_pattern.sub(r'', string)\n",
    "\n",
    "\n",
    "def remove_punctuations(data):\n",
    "    punct_tag = re.compile(r'[^\\w\\s]')\n",
    "    data = punct_tag.sub(r'', data)\n",
    "    return data\n",
    "\n",
    "\n",
    "def removeSpecialChars(data):\n",
    "    '''\n",
    "    Removes special characters which are specifically found in tweets.\n",
    "    '''\n",
    "    # Converts HTML tags to the characters they represent\n",
    "    # soup = BeautifulSoup(data, \"html.parser\")\n",
    "    # data = soup.get_text()\n",
    "\n",
    "    # Convert www.* or https?://* to empty strings\n",
    "    data = re.sub('((www\\.[^\\s]+)|(https?://[^\\s]+))', '', data)\n",
    "\n",
    "    # Convert @username to empty strings\n",
    "    data = re.sub('@[^\\s]+', '', data)\n",
    "\n",
    "    # remove org.apache. like texts\n",
    "    data = re.sub('(\\w+\\.){2,}', '', data)\n",
    "\n",
    "    # Remove additional white spaces\n",
    "    data = re.sub('[\\s]+', ' ', data)\n",
    "\n",
    "    data = re.sub('\\.(?!$)', '', data)\n",
    "\n",
    "    # Replace #word with word\n",
    "    data = re.sub(r'#([^\\s]+)', r'\\1', data)\n",
    "\n",
    "    return data\n",
    "\n",
    "\n",
    "def remove_nonenglish_charac(string):\n",
    "    return re.sub('[^a-zA-Z]', ' ', string)\n",
    "\n",
    "\n",
    "def text_cleaning(data):\n",
    "    \"\"\"Text Cleaning\n",
    "    let us clean the dataset and remove the redundancies.This includes\n",
    "\n",
    "    HTML codes\n",
    "    URLs\n",
    "    Emojis\n",
    "    Stopwords\n",
    "    Punctuations\n",
    "    Expanding Abbreviations\"\"\"\n",
    "\n",
    "    # wordnet_lemmatizer = WordNetLemmatizer()\n",
    "    # stemmer = PorterStemmer()\n",
    "    try:\n",
    "        data = unidecode(data)\n",
    "    except Exception as ex:\n",
    "        print(f\"#### the data is : \" , data)\n",
    "        raise ex\n",
    "    data = expandContractions(data)\n",
    "    # tokens = word_tokenize(data)\n",
    "    # data = ' '.join([tok for tok in tokens if len(tok) > 2 if tok not in stopword_list and not tok.isdigit()])\n",
    "    data = re.sub('\\b\\w{,2}\\b', '', data)\n",
    "    data = re.sub(' +', ' ', data)\n",
    "    data = removeSpecialChars(data)\n",
    "    data = remove_emoji(data)\n",
    "    # data = [stemmer.stem(w) for w in data.split()]\n",
    "    # data = ' '.join([wordnet_lemmatizer.lemmatize(word) for word in data])\n",
    "    return data\n",
    "\n",
    "\n",
    "def step_1_get_dataframe(filename, filetype=\"json\",encoding=None):\n",
    "    if filetype == \"csv\":\n",
    "        train_df = pd.read_csv(filename,encoding=encoding)\n",
    "    if filetype == \"json\":\n",
    "        train_df = pd.read_json(filename,encoding=encoding)\n",
    "    train_df.drop_duplicates(keep='first').count()\n",
    "    train_df = train_df.dropna()\n",
    "    train_df_shuffled = train_df.sample(frac=1, random_state=42)  # shuffle with random_state=42 for reproducibility\n",
    "    print(train_df_shuffled.head())\n",
    "    print(train_df_shuffled.columns)\n",
    "    return train_df_shuffled\n",
    "\n",
    "\n",
    "def remove_columns(df, cols: list, ):\n",
    "    df.drop(cols, axis=1, inplace=True)\n",
    "    print(df.head)\n",
    "    print(df.columns)\n",
    "    return df\n",
    "\n",
    "\n",
    "def rename_column(df,original, new, ):\n",
    "    df.rename({original: new}, axis=1, inplace=True)\n",
    "    print(df.columns)\n",
    "    return df\n",
    "\n",
    "\n",
    "def label_count_rebalancing(df,labels):\n",
    "    dataframes = []\n",
    "    print(\"### Old count: \")\n",
    "    print(df.labels.value_counts())\n",
    "    for label in labels:\n",
    "        dataframes.append(df[df['labels'] == label])\n",
    "\n",
    "    lowest = 9999999999\n",
    "    for df in dataframes:\n",
    "        if len(df) < lowest:\n",
    "            lowest = len(df)\n",
    "\n",
    "    balanced_df = []\n",
    "    for df in dataframes:\n",
    "        balanced_df.append(\n",
    "            resample(df, replace=False, n_samples=lowest)\n",
    "        )\n",
    "\n",
    "    train_df = pd.concat(balanced_df)\n",
    "    print(f\"### New counts \")\n",
    "    print(train_df.labels.value_counts())\n",
    "    return train_df.sample(frac=1, random_state=42)\n",
    "\n",
    "\n",
    "def unzip_data(filename):\n",
    "    \"\"\"\n",
    "  Unzips filename into the current working directory.\n",
    "\n",
    "  Args:\n",
    "    filename (str): a filepath to a target zip folder to be unzipped.\n",
    "  \"\"\"\n",
    "    if os.path.exists(filename):\n",
    "        zip_ref = zipfile.ZipFile(filename, \"r\")\n",
    "        zip_ref.extractall()\n",
    "        zip_ref.close()\n",
    "        os.remove(filename)\n",
    "    else:\n",
    "        print(f\"File not found\")\n",
    "\n",
    "\n",
    "def apply_text_cleaning(df, column_name):\n",
    "    df[column_name] = df[column_name].apply(lambda x: text_cleaning(x))\n",
    "    return df\n"
   ]
  },
  {
   "cell_type": "code",
   "execution_count": 52,
   "id": "2f26f30d-032e-4aa0-ad48-0f2a39bb48d5",
   "metadata": {},
   "outputs": [
    {
     "name": "stdout",
     "output_type": "stream",
     "text": [
      "            user_name           user_location  \\\n",
      "4442      Lauren Gray           Knoxville, TN   \n",
      "10246   Peony Hirwani           Indore, India   \n",
      "8515      Masoom Jain        Bengaluru, India   \n",
      "5841          Lynette                 England   \n",
      "6067   |FINESSE KING|  |Detroit ↔️ Ypsilanti|   \n",
      "\n",
      "                                        user_description         user_created  \\\n",
      "4442   Always #multitasking. @cityofoakridge communic...  2012-05-24 23:36:31   \n",
      "10246  I am a journalist who writes for The @Independ...  2016-04-30 12:17:20   \n",
      "8515   Product & Operations @Abaqus. Building @TEmpat...  2010-07-28 07:20:18   \n",
      "5841   GP. Interested in barbell training, books, get...  2013-01-17 13:01:39   \n",
      "6067   Funny retweets, constructive criticism, Black ...  2011-08-16 04:06:11   \n",
      "\n",
      "       user_followers  user_friends  user_favourites  user_verified  \\\n",
      "4442             1090           906            13332           True   \n",
      "10246              75            96              343          False   \n",
      "8515              278           444             2769          False   \n",
      "5841              178           166             1658          False   \n",
      "6067              857          1149             5013          False   \n",
      "\n",
      "                      date                                               text  \\\n",
      "4442   2020-09-14 03:11:56  @DirrtyDiana23 You must be watching #TheSocial...   \n",
      "10246  2020-09-09 20:04:34  I just watched Netflix’s  #TheSocialDilemma an...   \n",
      "8515   2020-09-11 18:29:55  We need to be responsible &amp; do better and ...   \n",
      "5841   2020-09-13 11:20:07  Can’t stop thinking about #TheSocialDilemma on...   \n",
      "6067   2020-09-13 08:43:48  Wow... after watching #thesocialdilemma on Net...   \n",
      "\n",
      "                   hashtags              source  is_retweet Sentiment  \n",
      "4442   ['TheSocialDilemma']  Twitter for iPhone       False   Neutral  \n",
      "10246  ['TheSocialDilemma']  Twitter for iPhone       False   Neutral  \n",
      "8515   ['TheSocialDilemma']     Twitter Web App       False  Positive  \n",
      "5841   ['TheSocialDilemma']  Twitter for iPhone       False  Positive  \n",
      "6067   ['thesocialdilemma']  Twitter for iPhone       False  Negative  \n",
      "Index(['user_name', 'user_location', 'user_description', 'user_created',\n",
      "       'user_followers', 'user_friends', 'user_favourites', 'user_verified',\n",
      "       'date', 'text', 'hashtags', 'source', 'is_retweet', 'Sentiment'],\n",
      "      dtype='object')\n"
     ]
    }
   ],
   "source": [
    "train_df = step_1_get_dataframe(\"TheSocialDilemma.csv\",\"csv\")"
   ]
  },
  {
   "cell_type": "code",
   "execution_count": 53,
   "id": "ff422181-6c0d-4f6f-a712-c132aed0ab92",
   "metadata": {},
   "outputs": [],
   "source": [
    "train_df = apply_text_cleaning(train_df,\"text\")"
   ]
  },
  {
   "cell_type": "code",
   "execution_count": 54,
   "id": "1c8e73df-7e92-4289-88bc-10d42edd7254",
   "metadata": {},
   "outputs": [
    {
     "name": "stdout",
     "output_type": "stream",
     "text": [
      "Index(['user_name', 'user_location', 'user_description', 'user_created',\n",
      "       'user_followers', 'user_friends', 'user_favourites', 'user_verified',\n",
      "       'date', 'text', 'hashtags', 'source', 'is_retweet', 'labels'],\n",
      "      dtype='object')\n"
     ]
    }
   ],
   "source": [
    "train_df = rename_column(train_df,\"Sentiment\",\"labels\")"
   ]
  },
  {
   "cell_type": "code",
   "execution_count": 55,
   "id": "cc15abd1-4c47-4d1a-8c57-00d91e7a8f57",
   "metadata": {},
   "outputs": [
    {
     "name": "stdout",
     "output_type": "stream",
     "text": [
      "### Old count: \n",
      "labels\n",
      "Positive    5190\n",
      "Neutral     4608\n",
      "Negative    1935\n",
      "Name: count, dtype: int64\n",
      "### New counts \n",
      "labels\n",
      "Neutral     1935\n",
      "Positive    1935\n",
      "Negative    1935\n",
      "Name: count, dtype: int64\n"
     ]
    }
   ],
   "source": [
    "train_df = label_count_rebalancing(train_df,[\"Neutral\",\"Positive\",\"Negative\"])"
   ]
  },
  {
   "cell_type": "code",
   "execution_count": 56,
   "id": "c7e58d73-c979-4484-8251-82dfcf74b628",
   "metadata": {},
   "outputs": [],
   "source": [
    "sentences = train_df[\"text\"].values\n",
    "labels = train_df[\"labels\"].values"
   ]
  },
  {
   "cell_type": "code",
   "execution_count": 57,
   "id": "20a1a073-ac73-4285-8ba1-96e402e18aa8",
   "metadata": {},
   "outputs": [],
   "source": [
    "from sklearn.model_selection import train_test_split\n",
    "train_text, val_text, train_labels, val_labels = train_test_split(sentences, labels, test_size=0.20, random_state=42)"
   ]
  },
  {
   "cell_type": "code",
   "execution_count": 58,
   "id": "dca490aa-930d-40ed-b678-cca8d17f5b99",
   "metadata": {},
   "outputs": [],
   "source": [
    "label_encoder = LabelEncoder()\n",
    "\n",
    "train_sentences = train_text\n",
    "train_labels = label_encoder.fit_transform(train_labels)\n",
    "\n",
    "validation_sentences = val_text\n",
    "validation_labels = label_encoder.fit_transform(val_labels)\n"
   ]
  },
  {
   "cell_type": "code",
   "execution_count": 59,
   "id": "5c8ede19-8d40-4ece-8d4e-ba0b7e2b2fce",
   "metadata": {},
   "outputs": [
    {
     "name": "stdout",
     "output_type": "stream",
     "text": [
      "There are 4644 sentences for training.\n",
      "\n",
      "There are 4644 labels for training.\n",
      "\n",
      "There are 1161 sentences for validation.\n",
      "\n",
      "There are 1161 labels for validation.\n"
     ]
    }
   ],
   "source": [
    "print(f\"There are {len(train_sentences)} sentences for training.\\n\")\n",
    "print(f\"There are {len(train_labels)} labels for training.\\n\")\n",
    "print(f\"There are {len(validation_sentences)} sentences for validation.\\n\")\n",
    "print(f\"There are {len(validation_labels)} labels for validation.\")"
   ]
  },
  {
   "cell_type": "code",
   "execution_count": 60,
   "id": "7556f90f-26d8-4cde-808a-797ad3f36f48",
   "metadata": {},
   "outputs": [],
   "source": [
    "tokenizer = Tokenizer(oov_token = \"<OOV>\")\n",
    "tokenizer.fit_on_texts(train_sentences)"
   ]
  },
  {
   "cell_type": "code",
   "execution_count": 61,
   "id": "32913bda-9a14-46bb-a26f-409f7c7774e8",
   "metadata": {},
   "outputs": [
    {
     "data": {
      "text/plain": [
       "5918"
      ]
     },
     "execution_count": 61,
     "metadata": {},
     "output_type": "execute_result"
    }
   ],
   "source": [
    "word_index = tokenizer.word_index\n",
    "VOCAB_SIZE = len(word_index)\n",
    "VOCAB_SIZE"
   ]
  },
  {
   "cell_type": "code",
   "execution_count": 63,
   "id": "0aeade31-7570-4f7e-8c87-b1577a7852cc",
   "metadata": {},
   "outputs": [],
   "source": [
    "train_seqs = tokenizer.texts_to_sequences(train_sentences)\n",
    "val_seqs = tokenizer.texts_to_sequences(validation_sentences)"
   ]
  },
  {
   "cell_type": "code",
   "execution_count": 64,
   "id": "f83059b4-0397-48d3-a6ab-a6203a677b03",
   "metadata": {},
   "outputs": [],
   "source": [
    "train_pad_sqs = pad_sequences(train_seqs,maxlen=30,padding=\"post\",truncating=\"post\")\n",
    "val_pad_seqs = pad_sequences(val_seqs,maxlen=30,padding=\"post\",truncating=\"post\")"
   ]
  },
  {
   "cell_type": "code",
   "execution_count": 78,
   "id": "17ae1244-4d79-43f4-b352-07cd3ce86ef9",
   "metadata": {},
   "outputs": [],
   "source": [
    "model = tf.keras.models.Sequential(\n",
    "    [\n",
    "        tf.keras.layers.Embedding(input_dim=VOCAB_SIZE,output_dim=100,input_length=30),\n",
    "        tf.keras.layers.LSTM(64,return_sequences=True, dropout=.5),\n",
    "        tf.keras.layers.LSTM(32, dropout=.5),\n",
    "        tf.keras.layers.Dense(16, activation='relu'),\n",
    "        tf.keras.layers.Dropout(0.5),\n",
    "        tf.keras.layers.Dense(3, activation='softmax')\n",
    "    ]\n",
    ")\n",
    "\n",
    "model.compile(\n",
    "    loss='sparse_categorical_crossentropy',\n",
    "    optimizer=\"adam\",\n",
    "    metrics=['accuracy']\n",
    ")"
   ]
  },
  {
   "cell_type": "code",
   "execution_count": 79,
   "id": "787a8d9c-e60d-4964-b944-cab33cc76e35",
   "metadata": {},
   "outputs": [
    {
     "name": "stdout",
     "output_type": "stream",
     "text": [
      "Epoch 1/15\n"
     ]
    },
    {
     "name": "stderr",
     "output_type": "stream",
     "text": [
      "2023-09-30 14:12:08.865338: I tensorflow/core/grappler/optimizers/custom_graph_optimizer_registry.cc:114] Plugin optimizer for device_type GPU is enabled.\n",
      "2023-09-30 14:12:09.077701: I tensorflow/core/grappler/optimizers/custom_graph_optimizer_registry.cc:114] Plugin optimizer for device_type GPU is enabled.\n",
      "2023-09-30 14:12:09.178229: I tensorflow/core/grappler/optimizers/custom_graph_optimizer_registry.cc:114] Plugin optimizer for device_type GPU is enabled.\n",
      "2023-09-30 14:12:09.447201: I tensorflow/core/grappler/optimizers/custom_graph_optimizer_registry.cc:114] Plugin optimizer for device_type GPU is enabled.\n",
      "2023-09-30 14:12:09.615142: I tensorflow/core/grappler/optimizers/custom_graph_optimizer_registry.cc:114] Plugin optimizer for device_type GPU is enabled.\n"
     ]
    },
    {
     "name": "stdout",
     "output_type": "stream",
     "text": [
      "146/146 [==============================] - ETA: 0s - loss: 1.0764 - accuracy: 0.4022"
     ]
    },
    {
     "name": "stderr",
     "output_type": "stream",
     "text": [
      "2023-09-30 14:12:15.048434: I tensorflow/core/grappler/optimizers/custom_graph_optimizer_registry.cc:114] Plugin optimizer for device_type GPU is enabled.\n",
      "2023-09-30 14:12:15.133130: I tensorflow/core/grappler/optimizers/custom_graph_optimizer_registry.cc:114] Plugin optimizer for device_type GPU is enabled.\n",
      "2023-09-30 14:12:15.203621: I tensorflow/core/grappler/optimizers/custom_graph_optimizer_registry.cc:114] Plugin optimizer for device_type GPU is enabled.\n"
     ]
    },
    {
     "name": "stdout",
     "output_type": "stream",
     "text": [
      "146/146 [==============================] - 8s 41ms/step - loss: 1.0764 - accuracy: 0.4022 - val_loss: 0.9735 - val_accuracy: 0.4849\n",
      "Epoch 2/15\n",
      "146/146 [==============================] - 4s 27ms/step - loss: 0.8934 - accuracy: 0.5448 - val_loss: 0.8030 - val_accuracy: 0.6133\n",
      "Epoch 3/15\n",
      "146/146 [==============================] - 3s 24ms/step - loss: 0.6501 - accuracy: 0.7209 - val_loss: 0.6659 - val_accuracy: 0.7373\n",
      "Epoch 4/15\n",
      "146/146 [==============================] - 3s 24ms/step - loss: 0.4355 - accuracy: 0.8549 - val_loss: 0.5500 - val_accuracy: 0.7812\n",
      "Epoch 5/15\n",
      "146/146 [==============================] - 3s 24ms/step - loss: 0.3054 - accuracy: 0.9152 - val_loss: 0.5432 - val_accuracy: 0.8346\n",
      "Epoch 6/15\n",
      "146/146 [==============================] - 3s 23ms/step - loss: 0.2229 - accuracy: 0.9423 - val_loss: 0.5048 - val_accuracy: 0.8441\n",
      "Epoch 7/15\n",
      "146/146 [==============================] - 3s 23ms/step - loss: 0.1763 - accuracy: 0.9552 - val_loss: 0.5047 - val_accuracy: 0.8407\n",
      "Epoch 8/15\n",
      "146/146 [==============================] - 3s 23ms/step - loss: 0.1544 - accuracy: 0.9653 - val_loss: 0.5487 - val_accuracy: 0.8424\n",
      "Epoch 9/15\n",
      "146/146 [==============================] - 3s 22ms/step - loss: 0.1380 - accuracy: 0.9662 - val_loss: 0.5499 - val_accuracy: 0.8208\n",
      "Epoch 10/15\n",
      "146/146 [==============================] - 3s 23ms/step - loss: 0.1130 - accuracy: 0.9761 - val_loss: 0.5284 - val_accuracy: 0.8501\n",
      "Epoch 11/15\n",
      "146/146 [==============================] - 3s 23ms/step - loss: 0.1086 - accuracy: 0.9744 - val_loss: 0.5371 - val_accuracy: 0.8493\n",
      "Epoch 12/15\n",
      "146/146 [==============================] - 3s 22ms/step - loss: 0.0954 - accuracy: 0.9785 - val_loss: 0.5651 - val_accuracy: 0.8450\n",
      "Epoch 13/15\n",
      "146/146 [==============================] - 3s 22ms/step - loss: 0.0775 - accuracy: 0.9823 - val_loss: 0.6549 - val_accuracy: 0.8510\n",
      "Epoch 14/15\n",
      "146/146 [==============================] - 3s 22ms/step - loss: 0.0753 - accuracy: 0.9823 - val_loss: 0.6269 - val_accuracy: 0.8407\n",
      "Epoch 15/15\n",
      "146/146 [==============================] - 3s 22ms/step - loss: 0.0809 - accuracy: 0.9817 - val_loss: 0.7062 - val_accuracy: 0.8510\n"
     ]
    }
   ],
   "source": [
    "history = model.fit(train_pad_sqs,train_labels,epochs=15, validation_data=(val_pad_seqs, validation_labels))"
   ]
  },
  {
   "cell_type": "code",
   "execution_count": 99,
   "id": "1202ba1f-42c5-4216-8d20-f8b030f14b57",
   "metadata": {},
   "outputs": [
    {
     "name": "stdout",
     "output_type": "stream",
     "text": [
      "Epoch 1/30\n"
     ]
    },
    {
     "name": "stderr",
     "output_type": "stream",
     "text": [
      "2023-09-30 15:04:24.243349: I tensorflow/core/grappler/optimizers/custom_graph_optimizer_registry.cc:114] Plugin optimizer for device_type GPU is enabled.\n",
      "2023-09-30 15:04:24.491489: I tensorflow/core/grappler/optimizers/custom_graph_optimizer_registry.cc:114] Plugin optimizer for device_type GPU is enabled.\n",
      "2023-09-30 15:04:24.630689: I tensorflow/core/grappler/optimizers/custom_graph_optimizer_registry.cc:114] Plugin optimizer for device_type GPU is enabled.\n",
      "2023-09-30 15:04:24.855322: I tensorflow/core/grappler/optimizers/custom_graph_optimizer_registry.cc:114] Plugin optimizer for device_type GPU is enabled.\n",
      "2023-09-30 15:04:25.067247: I tensorflow/core/grappler/optimizers/custom_graph_optimizer_registry.cc:114] Plugin optimizer for device_type GPU is enabled.\n"
     ]
    },
    {
     "name": "stdout",
     "output_type": "stream",
     "text": [
      "146/146 [==============================] - ETA: 0s - loss: 1.1213 - accuracy: 0.4550"
     ]
    },
    {
     "name": "stderr",
     "output_type": "stream",
     "text": [
      "2023-09-30 15:04:31.908313: I tensorflow/core/grappler/optimizers/custom_graph_optimizer_registry.cc:114] Plugin optimizer for device_type GPU is enabled.\n",
      "2023-09-30 15:04:32.003818: I tensorflow/core/grappler/optimizers/custom_graph_optimizer_registry.cc:114] Plugin optimizer for device_type GPU is enabled.\n",
      "2023-09-30 15:04:32.101186: I tensorflow/core/grappler/optimizers/custom_graph_optimizer_registry.cc:114] Plugin optimizer for device_type GPU is enabled.\n"
     ]
    },
    {
     "name": "stdout",
     "output_type": "stream",
     "text": [
      "146/146 [==============================] - 10s 53ms/step - loss: 1.1213 - accuracy: 0.4550 - val_loss: 0.9219 - val_accuracy: 0.5271\n",
      "Epoch 2/30\n",
      "146/146 [==============================] - 5s 35ms/step - loss: 0.7801 - accuracy: 0.6221 - val_loss: 0.7681 - val_accuracy: 0.6124\n",
      "Epoch 3/30\n",
      "146/146 [==============================] - 5s 34ms/step - loss: 0.6160 - accuracy: 0.6985 - val_loss: 0.7402 - val_accuracy: 0.6960\n",
      "Epoch 4/30\n",
      "146/146 [==============================] - 5s 31ms/step - loss: 0.5395 - accuracy: 0.7791 - val_loss: 0.8310 - val_accuracy: 0.6925\n",
      "Epoch 5/30\n",
      "146/146 [==============================] - 5s 32ms/step - loss: 0.4781 - accuracy: 0.8144 - val_loss: 0.7173 - val_accuracy: 0.7140\n",
      "Epoch 6/30\n",
      "146/146 [==============================] - 5s 31ms/step - loss: 0.3840 - accuracy: 0.8725 - val_loss: 0.6161 - val_accuracy: 0.7778\n",
      "Epoch 7/30\n",
      "146/146 [==============================] - 4s 30ms/step - loss: 0.3344 - accuracy: 0.9029 - val_loss: 0.5946 - val_accuracy: 0.8079\n",
      "Epoch 8/30\n",
      "146/146 [==============================] - 4s 30ms/step - loss: 0.2764 - accuracy: 0.9302 - val_loss: 0.5884 - val_accuracy: 0.8131\n",
      "Epoch 9/30\n",
      "146/146 [==============================] - 4s 30ms/step - loss: 0.2321 - accuracy: 0.9406 - val_loss: 0.6079 - val_accuracy: 0.8243\n",
      "Epoch 10/30\n",
      "146/146 [==============================] - 4s 30ms/step - loss: 0.1895 - accuracy: 0.9595 - val_loss: 0.6092 - val_accuracy: 0.8381\n",
      "Epoch 11/30\n",
      "146/146 [==============================] - 5s 32ms/step - loss: 0.1678 - accuracy: 0.9627 - val_loss: 0.6066 - val_accuracy: 0.8389\n",
      "Epoch 12/30\n",
      "146/146 [==============================] - 4s 30ms/step - loss: 0.1385 - accuracy: 0.9703 - val_loss: 0.6506 - val_accuracy: 0.8398\n",
      "Epoch 13/30\n",
      "146/146 [==============================] - 4s 30ms/step - loss: 0.1188 - accuracy: 0.9763 - val_loss: 0.8143 - val_accuracy: 0.8372\n",
      "Epoch 14/30\n",
      "146/146 [==============================] - 4s 30ms/step - loss: 0.1146 - accuracy: 0.9759 - val_loss: 0.8170 - val_accuracy: 0.8363\n",
      "Epoch 15/30\n",
      "146/146 [==============================] - 4s 31ms/step - loss: 0.1092 - accuracy: 0.9763 - val_loss: 0.7814 - val_accuracy: 0.8286\n",
      "Epoch 16/30\n",
      "146/146 [==============================] - 4s 30ms/step - loss: 0.0983 - accuracy: 0.9836 - val_loss: 0.8300 - val_accuracy: 0.8407\n",
      "Epoch 17/30\n",
      "146/146 [==============================] - 4s 31ms/step - loss: 0.1022 - accuracy: 0.9851 - val_loss: 0.6558 - val_accuracy: 0.8398\n",
      "Epoch 18/30\n",
      "146/146 [==============================] - 4s 30ms/step - loss: 0.0781 - accuracy: 0.9914 - val_loss: 0.6967 - val_accuracy: 0.8484\n",
      "Epoch 19/30\n",
      "146/146 [==============================] - 4s 30ms/step - loss: 0.0837 - accuracy: 0.9890 - val_loss: 0.6902 - val_accuracy: 0.8467\n",
      "Epoch 20/30\n",
      "146/146 [==============================] - 5s 31ms/step - loss: 0.0819 - accuracy: 0.9869 - val_loss: 0.8009 - val_accuracy: 0.8407\n",
      "Epoch 21/30\n",
      "146/146 [==============================] - 4s 30ms/step - loss: 0.0584 - accuracy: 0.9929 - val_loss: 0.7940 - val_accuracy: 0.8484\n",
      "Epoch 22/30\n",
      "146/146 [==============================] - 4s 30ms/step - loss: 0.0540 - accuracy: 0.9950 - val_loss: 0.7765 - val_accuracy: 0.8338\n",
      "Epoch 23/30\n",
      "146/146 [==============================] - 4s 30ms/step - loss: 0.0605 - accuracy: 0.9920 - val_loss: 0.7900 - val_accuracy: 0.8467\n",
      "Epoch 24/30\n",
      "146/146 [==============================] - 4s 30ms/step - loss: 0.0509 - accuracy: 0.9931 - val_loss: 0.8622 - val_accuracy: 0.8432\n",
      "Epoch 25/30\n",
      "146/146 [==============================] - 4s 31ms/step - loss: 0.0537 - accuracy: 0.9935 - val_loss: 0.8586 - val_accuracy: 0.8527\n",
      "Epoch 26/30\n",
      "146/146 [==============================] - 5s 31ms/step - loss: 0.0460 - accuracy: 0.9961 - val_loss: 0.8917 - val_accuracy: 0.8570\n",
      "Epoch 27/30\n",
      "146/146 [==============================] - 4s 31ms/step - loss: 0.0444 - accuracy: 0.9961 - val_loss: 0.9142 - val_accuracy: 0.8536\n",
      "Epoch 28/30\n",
      "146/146 [==============================] - 4s 31ms/step - loss: 0.0510 - accuracy: 0.9942 - val_loss: 0.9227 - val_accuracy: 0.8458\n",
      "Epoch 29/30\n",
      "146/146 [==============================] - 4s 30ms/step - loss: 0.0482 - accuracy: 0.9944 - val_loss: 0.8989 - val_accuracy: 0.8389\n",
      "Epoch 30/30\n",
      "146/146 [==============================] - 4s 30ms/step - loss: 0.0572 - accuracy: 0.9922 - val_loss: 0.7613 - val_accuracy: 0.8458\n"
     ]
    }
   ],
   "source": [
    "model = tf.keras.models.Sequential(\n",
    "    [\n",
    "        tf.keras.layers.Embedding(input_dim=VOCAB_SIZE,output_dim=100,input_length=30),\n",
    "        tf.keras.layers.LSTM(64,return_sequences=True, dropout=.2),\n",
    "        tf.keras.layers.LSTM(32, dropout=.2),\n",
    "        tf.keras.layers.Dense(16, activation='relu',kernel_regularizer=tf.keras.regularizers.l2(0.01)),\n",
    "        tf.keras.layers.Dropout(0.5),\n",
    "        tf.keras.layers.Dense(3, activation='softmax')\n",
    "    ]\n",
    ")\n",
    "\n",
    "model.compile(\n",
    "    loss='sparse_categorical_crossentropy',\n",
    "    optimizer=\"adam\",\n",
    "    metrics=['accuracy']\n",
    ")\n",
    "\n",
    "history = model.fit(train_pad_sqs,train_labels,epochs=30, validation_data=(val_pad_seqs, validation_labels))"
   ]
  },
  {
   "cell_type": "code",
   "execution_count": 100,
   "id": "83e7b590-5bec-4517-b3a6-605ee5ff1ac1",
   "metadata": {},
   "outputs": [
    {
     "data": {
      "image/png": "[encoded data removed]",
      "text/plain": [
       "<Figure size 640x480 with 1 Axes>"
      ]
     },
     "metadata": {},
     "output_type": "display_data"
    }
   ],
   "source": [
    "#-----------------------------------------------------------\n",
    "# Retrieve a list of list results on training and test data\n",
    "# sets for each training epoch\n",
    "#-----------------------------------------------------------\n",
    "loss = history.history['loss']\n",
    "val_loss = history.history['val_loss']\n",
    "\n",
    "epochs = [*range(30)]\n",
    "\n",
    "#------------------------------------------------\n",
    "# Plot training and validation loss per epoch\n",
    "#------------------------------------------------\n",
    "plt.plot(epochs, loss, 'r')\n",
    "plt.plot(epochs, val_loss, 'b')\n",
    "plt.title('Training and validation loss')\n",
    "plt.xlabel(\"Epochs\")\n",
    "plt.ylabel(\"Loss\")\n",
    "plt.legend([\"Loss\", \"Validation Loss\"])\n",
    "plt.show()"
   ]
  },
  {
   "cell_type": "code",
   "execution_count": 101,
   "id": "bcf09538-5285-4f6c-b69f-69dbf0bbfaaf",
   "metadata": {},
   "outputs": [
    {
     "name": "stdout",
     "output_type": "stream",
     "text": [
      "The slope of your validation loss curve is 0.00588\n"
     ]
    }
   ],
   "source": [
    "import matplotlib.pyplot as plt\n",
    "from scipy.stats import linregress\n",
    "\n",
    "# Test the slope of your val_loss curve. val_loss curve should be 0.0005 at maximum.\n",
    "slope, *_ = linregress(epochs, val_loss)\n",
    "print(f\"The slope of your validation loss curve is {slope:.5f}\")"
   ]
  },
  {
   "cell_type": "code",
   "execution_count": null,
   "id": "a9c4e043-4e72-449e-b945-4d9814547b4a",
   "metadata": {},
   "outputs": [],
   "source": []
  }
 ],
 "metadata": {
  "kernelspec": {
   "display_name": "Python 3 (ipykernel)",
   "language": "python",
   "name": "python3"
  },
  "language_info": {
   "codemirror_mode": {
    "name": "ipython",
    "version": 3
   },
   "file_extension": ".py",
   "mimetype": "text/x-python",
   "name": "python",
   "nbconvert_exporter": "python",
   "pygments_lexer": "ipython3",
   "version": "3.8.16"
  }
 },
 "nbformat": 4,
 "nbformat_minor": 5
}
