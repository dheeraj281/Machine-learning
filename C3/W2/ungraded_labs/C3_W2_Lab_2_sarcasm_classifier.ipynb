{
 "cells": [
  {
   "cell_type": "markdown",
   "metadata": {},
   "source": [
    "<a href=\"https://colab.research.google.com/github/https-deeplearning-ai/tensorflow-1-public/blob/master/C3/W2/ungraded_labs/C3_W2_Lab_2_sarcasm_classifier.ipynb\" target=\"_parent\"><img src=\"https://colab.research.google.com/assets/colab-badge.svg\" alt=\"Open In Colab\"/></a>"
   ]
  },
  {
   "cell_type": "markdown",
   "metadata": {
    "id": "ZfVtdwryvvP6"
   },
   "source": [
    "# Ungraded Lab: Training a binary classifier with the Sarcasm Dataset\n",
    "\n",
    "In this lab, you will revisit the [News Headlines Dataset for Sarcasm Detection](https://www.kaggle.com/rmisra/news-headlines-dataset-for-sarcasm-detection/home) from last week and proceed to build a train a model on it. The steps will be very similar to the previous lab with IMDB Reviews with just some minor modifications. You can tweak the hyperparameters and see how it affects the results. Let's begin!"
   ]
  },
  {
   "cell_type": "markdown",
   "metadata": {
    "id": "aWIM6gplHqfx"
   },
   "source": [
    "## Download the dataset\n",
    "\n",
    "You will first download the JSON file, load it into your workspace and put the sentences and labels into lists. "
   ]
  },
  {
   "cell_type": "code",
   "execution_count": 1,
   "metadata": {
    "id": "BQVuQrZNkPn9"
   },
   "outputs": [
    {
     "name": "stdout",
     "output_type": "stream",
     "text": [
      "--2023-10-15 12:33:31--  https://storage.googleapis.com/tensorflow-1-public/course3/sarcasm.json\n",
      "Resolving storage.googleapis.com (storage.googleapis.com)... 2404:6800:4009:824::201b, 2404:6800:4009:825::201b, 2404:6800:4009:826::201b, ...\n",
      "Connecting to storage.googleapis.com (storage.googleapis.com)|2404:6800:4009:824::201b|:443... connected.\n",
      "HTTP request sent, awaiting response... 200 OK\n",
      "Length: 5643545 (5.4M) [application/json]\n",
      "Saving to: ‘sarcasm.json’\n",
      "\n",
      "sarcasm.json        100%[===================>]   5.38M  3.00MB/s    in 1.8s    \n",
      "\n",
      "2023-10-15 12:33:33 (3.00 MB/s) - ‘sarcasm.json’ saved [5643545/5643545]\n",
      "\n"
     ]
    }
   ],
   "source": [
    "# Download the dataset\n",
    "!wget https://storage.googleapis.com/tensorflow-1-public/course3/sarcasm.json"
   ]
  },
  {
   "cell_type": "code",
   "execution_count": 2,
   "metadata": {
    "id": "oaLaaqhNkUPd"
   },
   "outputs": [],
   "source": [
    "import json\n",
    "\n",
    "# Load the JSON file\n",
    "with open(\"./sarcasm.json\", 'r') as f:\n",
    "    datastore = json.load(f)\n",
    "\n",
    "# Initialize the lists\n",
    "sentences = []\n",
    "labels = []\n",
    "\n",
    "# Collect sentences and labels into the lists\n",
    "for item in datastore:\n",
    "    sentences.append(item['headline'])\n",
    "    labels.append(item['is_sarcastic'])"
   ]
  },
  {
   "cell_type": "markdown",
   "metadata": {
    "id": "kw1I6oNSfCxa"
   },
   "source": [
    "## Hyperparameters\n",
    "\n",
    "We placed the hyperparameters in the cell below so you can easily tweak it later:"
   ]
  },
  {
   "cell_type": "code",
   "execution_count": 3,
   "metadata": {
    "id": "wpF4x5olfHX-"
   },
   "outputs": [],
   "source": [
    "# Number of examples to use for training\n",
    "training_size = 20000\n",
    "\n",
    "# Vocabulary size of the tokenizer\n",
    "vocab_size = 10000\n",
    "\n",
    "# Maximum length of the padded sequences\n",
    "max_length = 32\n",
    "\n",
    "# Output dimensions of the Embedding layer\n",
    "embedding_dim = 16"
   ]
  },
  {
   "cell_type": "markdown",
   "metadata": {
    "id": "dHibcDI0H5Zj"
   },
   "source": [
    "## Split the dataset\n",
    "\n",
    "Next, you will generate your train and test datasets. You will use the `training_size` value you set above to slice the `sentences` and `labels` lists into two sublists: one fore training and another for testing."
   ]
  },
  {
   "cell_type": "code",
   "execution_count": 4,
   "metadata": {
    "id": "S1sD-7v0kYWk"
   },
   "outputs": [],
   "source": [
    "# Split the sentences\n",
    "training_sentences = sentences[0:training_size]\n",
    "testing_sentences = sentences[training_size:]\n",
    "\n",
    "# Split the labels\n",
    "training_labels = labels[0:training_size]\n",
    "testing_labels = labels[training_size:]"
   ]
  },
  {
   "cell_type": "markdown",
   "metadata": {
    "id": "qciTzNR7IHzJ"
   },
   "source": [
    "## Preprocessing the train and test sets\n",
    "\n",
    "Now you can preprocess the text and labels so it can be consumed by the model. You use the `Tokenizer` class to create the vocabulary and the `pad_sequences` method to generate padded token sequences. You will also need to set the labels to a numpy array so it can be a valid data type for `model.fit()`."
   ]
  },
  {
   "cell_type": "code",
   "execution_count": 5,
   "metadata": {
    "id": "3u8UB0MCkZ5N"
   },
   "outputs": [
    {
     "name": "stdout",
     "output_type": "stream",
     "text": [
      "WARNING:tensorflow:From /Users/dheeraj/miniforge3/envs/ml/lib/python3.8/site-packages/tensorflow/python/ops/distributions/distribution.py:259: ReparameterizationType.__init__ (from tensorflow.python.ops.distributions.distribution) is deprecated and will be removed after 2019-01-01.\n",
      "Instructions for updating:\n",
      "The TensorFlow Distributions library has moved to TensorFlow Probability (https://github.com/tensorflow/probability). You should update all references to use `tfp.distributions` instead of `tf.distributions`.\n",
      "WARNING:tensorflow:From /Users/dheeraj/miniforge3/envs/ml/lib/python3.8/site-packages/tensorflow/python/ops/distributions/bernoulli.py:165: RegisterKL.__init__ (from tensorflow.python.ops.distributions.kullback_leibler) is deprecated and will be removed after 2019-01-01.\n",
      "Instructions for updating:\n",
      "The TensorFlow Distributions library has moved to TensorFlow Probability (https://github.com/tensorflow/probability). You should update all references to use `tfp.distributions` instead of `tf.distributions`.\n"
     ]
    }
   ],
   "source": [
    "import numpy as np\n",
    "from tensorflow.keras.preprocessing.text import Tokenizer\n",
    "from tensorflow.keras.preprocessing.sequence import pad_sequences\n",
    "\n",
    "# Parameters for padding and OOV tokens\n",
    "trunc_type='post'\n",
    "padding_type='post'\n",
    "oov_tok = \"<OOV>\"\n",
    "\n",
    "# Initialize the Tokenizer class\n",
    "tokenizer = Tokenizer(num_words=vocab_size, oov_token=oov_tok)\n",
    "\n",
    "# Generate the word index dictionary\n",
    "tokenizer.fit_on_texts(training_sentences)\n",
    "word_index = tokenizer.word_index\n",
    "\n",
    "# Generate and pad the training sequences\n",
    "training_sequences = tokenizer.texts_to_sequences(training_sentences)\n",
    "training_padded = pad_sequences(training_sequences, maxlen=max_length, padding=padding_type, truncating=trunc_type)\n",
    "\n",
    "# Generate and pad the testing sequences\n",
    "testing_sequences = tokenizer.texts_to_sequences(testing_sentences)\n",
    "testing_padded = pad_sequences(testing_sequences, maxlen=max_length, padding=padding_type, truncating=trunc_type)\n",
    "\n",
    "# Convert the labels lists into numpy arrays\n",
    "training_labels = np.array(training_labels)\n",
    "testing_labels = np.array(testing_labels)"
   ]
  },
  {
   "cell_type": "markdown",
   "metadata": {
    "id": "AMF4afx2IdHo"
   },
   "source": [
    "## Build and Compile the Model\n",
    "\n",
    "Next, you will build the model. The architecture is similar to the previous lab but you will use a [GlobalAveragePooling1D](https://www.tensorflow.org/api_docs/python/tf/keras/layers/GlobalAveragePooling1D) layer instead of `Flatten` after the Embedding. This adds the task of averaging over the sequence dimension before connecting to the dense layers. See a short demo of how this works using the snippet below. Notice that it gets the average over 3 arrays (i.e. `(10 + 1 + 1) / 3` and `(2 + 3 + 1) / 3` to arrive at the final output."
   ]
  },
  {
   "cell_type": "code",
   "execution_count": 6,
   "metadata": {
    "id": "7KDCvSc0kFOz"
   },
   "outputs": [
    {
     "name": "stdout",
     "output_type": "stream",
     "text": [
      "shape of sample_array = (1, 3, 2)\n",
      "sample array: [[[10  2]\n",
      "  [ 1  3]\n",
      "  [ 1  1]]]\n",
      "output shape of gap1d_layer: (1, 2)\n",
      "output array of gap1d_layer: [[4 2]]\n"
     ]
    },
    {
     "name": "stderr",
     "output_type": "stream",
     "text": [
      "2023-10-15 12:33:53.229806: I metal_plugin/src/device/metal_device.cc:1154] Metal device set to: Apple M1 Pro\n",
      "2023-10-15 12:33:53.229827: I metal_plugin/src/device/metal_device.cc:296] systemMemory: 16.00 GB\n",
      "2023-10-15 12:33:53.229832: I metal_plugin/src/device/metal_device.cc:313] maxCacheSize: 5.33 GB\n",
      "2023-10-15 12:33:53.229867: I tensorflow/core/common_runtime/pluggable_device/pluggable_device_factory.cc:306] Could not identify NUMA node of platform GPU ID 0, defaulting to 0. Your kernel may not have been built with NUMA support.\n",
      "2023-10-15 12:33:53.229901: I tensorflow/core/common_runtime/pluggable_device/pluggable_device_factory.cc:272] Created TensorFlow device (/job:localhost/replica:0/task:0/device:GPU:0 with 0 MB memory) -> physical PluggableDevice (device: 0, name: METAL, pci bus id: <undefined>)\n"
     ]
    }
   ],
   "source": [
    "import tensorflow as tf\n",
    "\n",
    "# Initialize a GlobalAveragePooling1D (GAP1D) layer\n",
    "gap1d_layer = tf.keras.layers.GlobalAveragePooling1D()\n",
    "\n",
    "# Define sample array\n",
    "sample_array = np.array([[[10,2],[1,3],[1,1]]])\n",
    "\n",
    "# Print shape and contents of sample array\n",
    "print(f'shape of sample_array = {sample_array.shape}')\n",
    "print(f'sample array: {sample_array}')\n",
    "\n",
    "# Pass the sample array to the GAP1D layer\n",
    "output = gap1d_layer(sample_array)\n",
    "\n",
    "# Print shape and contents of the GAP1D output array\n",
    "print(f'output shape of gap1d_layer: {output.shape}')\n",
    "print(f'output array of gap1d_layer: {output.numpy()}')"
   ]
  },
  {
   "cell_type": "markdown",
   "metadata": {
    "id": "evlU_kqOshc4"
   },
   "source": [
    "This added computation reduces the dimensionality of the model as compared to using `Flatten()` and thus, the number of training parameters will also decrease. See the output of `model.summary()` below and see how it compares if you swap out the pooling layer with a simple `Flatten()`."
   ]
  },
  {
   "cell_type": "code",
   "execution_count": 7,
   "metadata": {
    "id": "FufaT4vlkiDE"
   },
   "outputs": [
    {
     "name": "stdout",
     "output_type": "stream",
     "text": [
      "Model: \"sequential\"\n",
      "_________________________________________________________________\n",
      " Layer (type)                Output Shape              Param #   \n",
      "=================================================================\n",
      " embedding (Embedding)       (None, 32, 16)            160000    \n",
      "                                                                 \n",
      " global_average_pooling1d_1  (None, 16)                0         \n",
      "  (GlobalAveragePooling1D)                                       \n",
      "                                                                 \n",
      " dense (Dense)               (None, 24)                408       \n",
      "                                                                 \n",
      " dense_1 (Dense)             (None, 1)                 25        \n",
      "                                                                 \n",
      "=================================================================\n",
      "Total params: 160433 (626.69 KB)\n",
      "Trainable params: 160433 (626.69 KB)\n",
      "Non-trainable params: 0 (0.00 Byte)\n",
      "_________________________________________________________________\n"
     ]
    }
   ],
   "source": [
    "# Build the model\n",
    "model = tf.keras.Sequential([\n",
    "    tf.keras.layers.Embedding(vocab_size, embedding_dim, input_length=max_length),\n",
    "    tf.keras.layers.GlobalAveragePooling1D(),\n",
    "    tf.keras.layers.Dense(24, activation='relu'),\n",
    "    tf.keras.layers.Dense(1, activation='sigmoid')\n",
    "])\n",
    "\n",
    "# Print the model summary\n",
    "model.summary()"
   ]
  },
  {
   "cell_type": "markdown",
   "metadata": {
    "id": "GMxT5NzKtRgr"
   },
   "source": [
    "You will use the same loss, optimizer, and metrics from the previous lab."
   ]
  },
  {
   "cell_type": "code",
   "execution_count": 8,
   "metadata": {
    "id": "XfDt1hmYkiys"
   },
   "outputs": [],
   "source": [
    "# Compile the model\n",
    "model.compile(loss='binary_crossentropy',optimizer='adam',metrics=['accuracy'])"
   ]
  },
  {
   "cell_type": "markdown",
   "metadata": {
    "id": "Axtd-WQAJIUK"
   },
   "source": [
    "## Train the Model\n",
    "\n",
    "Now you will feed in the prepared datasets to train the model. If you used the default hyperparameters, you will get around 99% training accuracy and 80% validation accuracy.\n",
    "\n",
    "*Tip: You can set the `verbose` parameter of `model.fit()` to `2` to indicate that you want to print just the results per epoch. Setting it to `1` (default) displays a progress bar per epoch, while `0` silences all displays. It doesn't matter much in this Colab but when working in a production environment, you may want to set this to `2` as recommended in the [documentation](https://keras.io/api/models/model_training_apis/#fit-method).*"
   ]
  },
  {
   "cell_type": "code",
   "execution_count": 10,
   "metadata": {
    "id": "2DTKQFf1kkyc"
   },
   "outputs": [
    {
     "name": "stdout",
     "output_type": "stream",
     "text": [
      "Epoch 1/100\n",
      "625/625 - 5s - loss: 0.0106 - accuracy: 0.9984 - val_loss: 2.3336 - val_accuracy: 0.8022 - 5s/epoch - 8ms/step\n",
      "Epoch 2/100\n",
      "625/625 - 5s - loss: 0.0113 - accuracy: 0.9974 - val_loss: 2.3570 - val_accuracy: 0.7992 - 5s/epoch - 8ms/step\n",
      "Epoch 3/100\n",
      "625/625 - 5s - loss: 0.0101 - accuracy: 0.9978 - val_loss: 2.4894 - val_accuracy: 0.8031 - 5s/epoch - 8ms/step\n",
      "Epoch 4/100\n",
      "625/625 - 5s - loss: 0.0084 - accuracy: 0.9986 - val_loss: 2.5134 - val_accuracy: 0.8025 - 5s/epoch - 8ms/step\n",
      "Epoch 5/100\n",
      "625/625 - 5s - loss: 0.0073 - accuracy: 0.9987 - val_loss: 2.5938 - val_accuracy: 0.8027 - 5s/epoch - 8ms/step\n",
      "Epoch 6/100\n",
      "625/625 - 5s - loss: 0.0091 - accuracy: 0.9975 - val_loss: 2.6381 - val_accuracy: 0.8012 - 5s/epoch - 8ms/step\n",
      "Epoch 7/100\n",
      "625/625 - 5s - loss: 0.0087 - accuracy: 0.9981 - val_loss: 2.7444 - val_accuracy: 0.8016 - 5s/epoch - 8ms/step\n",
      "Epoch 8/100\n",
      "625/625 - 5s - loss: 0.0064 - accuracy: 0.9988 - val_loss: 2.8113 - val_accuracy: 0.8003 - 5s/epoch - 8ms/step\n",
      "Epoch 9/100\n",
      "625/625 - 5s - loss: 0.0063 - accuracy: 0.9984 - val_loss: 2.8746 - val_accuracy: 0.8009 - 5s/epoch - 8ms/step\n",
      "Epoch 10/100\n",
      "625/625 - 5s - loss: 0.0088 - accuracy: 0.9971 - val_loss: 2.9604 - val_accuracy: 0.8004 - 5s/epoch - 8ms/step\n",
      "Epoch 11/100\n",
      "625/625 - 5s - loss: 0.0060 - accuracy: 0.9984 - val_loss: 3.0014 - val_accuracy: 0.8012 - 5s/epoch - 8ms/step\n",
      "Epoch 12/100\n",
      "625/625 - 5s - loss: 0.0061 - accuracy: 0.9982 - val_loss: 3.0911 - val_accuracy: 0.8006 - 5s/epoch - 8ms/step\n",
      "Epoch 13/100\n",
      "625/625 - 5s - loss: 0.0056 - accuracy: 0.9986 - val_loss: 3.1634 - val_accuracy: 0.8018 - 5s/epoch - 8ms/step\n",
      "Epoch 14/100\n",
      "625/625 - 5s - loss: 0.0056 - accuracy: 0.9985 - val_loss: 3.2072 - val_accuracy: 0.8031 - 5s/epoch - 8ms/step\n",
      "Epoch 15/100\n",
      "625/625 - 5s - loss: 0.0040 - accuracy: 0.9992 - val_loss: 3.2910 - val_accuracy: 0.8001 - 5s/epoch - 8ms/step\n",
      "Epoch 16/100\n",
      "625/625 - 5s - loss: 0.0044 - accuracy: 0.9990 - val_loss: 3.3617 - val_accuracy: 0.7988 - 5s/epoch - 8ms/step\n",
      "Epoch 17/100\n",
      "625/625 - 5s - loss: 0.0044 - accuracy: 0.9991 - val_loss: 3.4269 - val_accuracy: 0.7991 - 5s/epoch - 8ms/step\n",
      "Epoch 18/100\n",
      "625/625 - 5s - loss: 0.0043 - accuracy: 0.9990 - val_loss: 3.4544 - val_accuracy: 0.7982 - 5s/epoch - 8ms/step\n",
      "Epoch 19/100\n",
      "625/625 - 5s - loss: 0.0039 - accuracy: 0.9987 - val_loss: 3.5636 - val_accuracy: 0.7983 - 5s/epoch - 8ms/step\n",
      "Epoch 20/100\n",
      "625/625 - 5s - loss: 0.0056 - accuracy: 0.9985 - val_loss: 3.6136 - val_accuracy: 0.8006 - 5s/epoch - 8ms/step\n",
      "Epoch 21/100\n",
      "625/625 - 5s - loss: 0.0038 - accuracy: 0.9988 - val_loss: 3.6671 - val_accuracy: 0.7958 - 5s/epoch - 8ms/step\n",
      "Epoch 22/100\n",
      "625/625 - 5s - loss: 0.0037 - accuracy: 0.9991 - val_loss: 3.7207 - val_accuracy: 0.7976 - 5s/epoch - 8ms/step\n",
      "Epoch 23/100\n",
      "625/625 - 5s - loss: 0.0045 - accuracy: 0.9987 - val_loss: 3.8085 - val_accuracy: 0.7998 - 5s/epoch - 8ms/step\n",
      "Epoch 24/100\n",
      "625/625 - 5s - loss: 0.0040 - accuracy: 0.9988 - val_loss: 3.8224 - val_accuracy: 0.7951 - 5s/epoch - 8ms/step\n",
      "Epoch 25/100\n",
      "625/625 - 5s - loss: 0.0037 - accuracy: 0.9989 - val_loss: 3.8827 - val_accuracy: 0.7976 - 5s/epoch - 8ms/step\n",
      "Epoch 26/100\n",
      "625/625 - 5s - loss: 0.0037 - accuracy: 0.9988 - val_loss: 3.9465 - val_accuracy: 0.7930 - 5s/epoch - 8ms/step\n",
      "Epoch 27/100\n",
      "625/625 - 5s - loss: 0.0057 - accuracy: 0.9986 - val_loss: 3.9274 - val_accuracy: 0.8003 - 5s/epoch - 8ms/step\n",
      "Epoch 28/100\n",
      "625/625 - 5s - loss: 0.0037 - accuracy: 0.9990 - val_loss: 3.9419 - val_accuracy: 0.7968 - 5s/epoch - 8ms/step\n",
      "Epoch 29/100\n",
      "625/625 - 5s - loss: 0.0032 - accuracy: 0.9990 - val_loss: 3.9829 - val_accuracy: 0.7962 - 5s/epoch - 8ms/step\n",
      "Epoch 30/100\n",
      "625/625 - 5s - loss: 0.0043 - accuracy: 0.9989 - val_loss: 4.0579 - val_accuracy: 0.8010 - 5s/epoch - 8ms/step\n",
      "Epoch 31/100\n",
      "625/625 - 5s - loss: 0.0037 - accuracy: 0.9990 - val_loss: 4.0004 - val_accuracy: 0.7973 - 5s/epoch - 8ms/step\n",
      "Epoch 32/100\n",
      "625/625 - 5s - loss: 0.0037 - accuracy: 0.9991 - val_loss: 4.0043 - val_accuracy: 0.8018 - 5s/epoch - 8ms/step\n",
      "Epoch 33/100\n",
      "625/625 - 5s - loss: 0.0031 - accuracy: 0.9989 - val_loss: 4.0567 - val_accuracy: 0.8013 - 5s/epoch - 8ms/step\n",
      "Epoch 34/100\n",
      "625/625 - 5s - loss: 0.0025 - accuracy: 0.9994 - val_loss: 4.0977 - val_accuracy: 0.7976 - 5s/epoch - 8ms/step\n",
      "Epoch 35/100\n",
      "625/625 - 5s - loss: 0.0048 - accuracy: 0.9981 - val_loss: 4.1989 - val_accuracy: 0.7974 - 5s/epoch - 8ms/step\n",
      "Epoch 36/100\n",
      "625/625 - 5s - loss: 0.0038 - accuracy: 0.9985 - val_loss: 4.1517 - val_accuracy: 0.7995 - 5s/epoch - 8ms/step\n",
      "Epoch 37/100\n",
      "625/625 - 5s - loss: 0.0032 - accuracy: 0.9988 - val_loss: 4.1888 - val_accuracy: 0.7971 - 5s/epoch - 8ms/step\n",
      "Epoch 38/100\n",
      "625/625 - 5s - loss: 0.0029 - accuracy: 0.9991 - val_loss: 4.2368 - val_accuracy: 0.7958 - 5s/epoch - 8ms/step\n",
      "Epoch 39/100\n",
      "625/625 - 5s - loss: 0.0034 - accuracy: 0.9990 - val_loss: 4.2324 - val_accuracy: 0.7939 - 5s/epoch - 8ms/step\n",
      "Epoch 40/100\n",
      "625/625 - 5s - loss: 0.0041 - accuracy: 0.9987 - val_loss: 4.2475 - val_accuracy: 0.7974 - 5s/epoch - 8ms/step\n",
      "Epoch 41/100\n",
      "625/625 - 5s - loss: 0.0032 - accuracy: 0.9993 - val_loss: 4.2254 - val_accuracy: 0.7971 - 5s/epoch - 8ms/step\n",
      "Epoch 42/100\n",
      "625/625 - 5s - loss: 0.0023 - accuracy: 0.9996 - val_loss: 4.2748 - val_accuracy: 0.7994 - 5s/epoch - 8ms/step\n",
      "Epoch 43/100\n",
      "625/625 - 5s - loss: 0.0044 - accuracy: 0.9988 - val_loss: 4.2603 - val_accuracy: 0.7961 - 5s/epoch - 8ms/step\n",
      "Epoch 44/100\n",
      "625/625 - 6s - loss: 0.0039 - accuracy: 0.9985 - val_loss: 4.2489 - val_accuracy: 0.7974 - 6s/epoch - 9ms/step\n",
      "Epoch 45/100\n",
      "625/625 - 5s - loss: 0.0034 - accuracy: 0.9990 - val_loss: 4.2608 - val_accuracy: 0.7973 - 5s/epoch - 8ms/step\n",
      "Epoch 46/100\n",
      "625/625 - 5s - loss: 0.0034 - accuracy: 0.9990 - val_loss: 4.2444 - val_accuracy: 0.7986 - 5s/epoch - 8ms/step\n",
      "Epoch 47/100\n",
      "625/625 - 5s - loss: 0.0029 - accuracy: 0.9992 - val_loss: 4.3748 - val_accuracy: 0.7985 - 5s/epoch - 8ms/step\n",
      "Epoch 48/100\n",
      "625/625 - 5s - loss: 0.0030 - accuracy: 0.9993 - val_loss: 4.3248 - val_accuracy: 0.7953 - 5s/epoch - 9ms/step\n",
      "Epoch 49/100\n",
      "625/625 - 5s - loss: 0.0060 - accuracy: 0.9981 - val_loss: 4.2199 - val_accuracy: 0.7982 - 5s/epoch - 8ms/step\n",
      "Epoch 50/100\n",
      "625/625 - 5s - loss: 0.0026 - accuracy: 0.9993 - val_loss: 4.2235 - val_accuracy: 0.7968 - 5s/epoch - 8ms/step\n",
      "Epoch 51/100\n",
      "625/625 - 5s - loss: 0.0027 - accuracy: 0.9994 - val_loss: 4.2611 - val_accuracy: 0.7974 - 5s/epoch - 8ms/step\n",
      "Epoch 52/100\n",
      "625/625 - 5s - loss: 0.0022 - accuracy: 0.9995 - val_loss: 4.2098 - val_accuracy: 0.7968 - 5s/epoch - 8ms/step\n",
      "Epoch 53/100\n",
      "625/625 - 5s - loss: 0.0025 - accuracy: 0.9993 - val_loss: 4.1900 - val_accuracy: 0.7973 - 5s/epoch - 8ms/step\n",
      "Epoch 54/100\n",
      "625/625 - 5s - loss: 0.0038 - accuracy: 0.9992 - val_loss: 4.2360 - val_accuracy: 0.7979 - 5s/epoch - 8ms/step\n",
      "Epoch 55/100\n",
      "625/625 - 5s - loss: 0.0030 - accuracy: 0.9990 - val_loss: 4.2719 - val_accuracy: 0.7989 - 5s/epoch - 8ms/step\n",
      "Epoch 56/100\n",
      "625/625 - 5s - loss: 0.0025 - accuracy: 0.9992 - val_loss: 4.2017 - val_accuracy: 0.7979 - 5s/epoch - 8ms/step\n",
      "Epoch 57/100\n",
      "625/625 - 5s - loss: 0.0028 - accuracy: 0.9992 - val_loss: 4.2461 - val_accuracy: 0.7962 - 5s/epoch - 8ms/step\n",
      "Epoch 58/100\n",
      "625/625 - 5s - loss: 0.0031 - accuracy: 0.9991 - val_loss: 4.2260 - val_accuracy: 0.7940 - 5s/epoch - 8ms/step\n",
      "Epoch 59/100\n",
      "625/625 - 5s - loss: 0.0031 - accuracy: 0.9993 - val_loss: 4.2312 - val_accuracy: 0.7937 - 5s/epoch - 8ms/step\n",
      "Epoch 60/100\n",
      "625/625 - 5s - loss: 0.0027 - accuracy: 0.9993 - val_loss: 4.2619 - val_accuracy: 0.7956 - 5s/epoch - 8ms/step\n",
      "Epoch 61/100\n",
      "625/625 - 5s - loss: 0.0023 - accuracy: 0.9993 - val_loss: 4.2825 - val_accuracy: 0.7961 - 5s/epoch - 8ms/step\n",
      "Epoch 62/100\n",
      "625/625 - 5s - loss: 0.0047 - accuracy: 0.9985 - val_loss: 4.2601 - val_accuracy: 0.7916 - 5s/epoch - 8ms/step\n",
      "Epoch 63/100\n",
      "625/625 - 5s - loss: 0.0024 - accuracy: 0.9994 - val_loss: 4.2855 - val_accuracy: 0.7977 - 5s/epoch - 8ms/step\n",
      "Epoch 64/100\n",
      "625/625 - 5s - loss: 0.0021 - accuracy: 0.9994 - val_loss: 4.2421 - val_accuracy: 0.7965 - 5s/epoch - 8ms/step\n",
      "Epoch 65/100\n",
      "625/625 - 5s - loss: 0.0028 - accuracy: 0.9991 - val_loss: 4.2055 - val_accuracy: 0.7945 - 5s/epoch - 8ms/step\n",
      "Epoch 66/100\n",
      "625/625 - 5s - loss: 0.0015 - accuracy: 0.9995 - val_loss: 4.2443 - val_accuracy: 0.7942 - 5s/epoch - 8ms/step\n",
      "Epoch 67/100\n",
      "625/625 - 5s - loss: 0.0022 - accuracy: 0.9991 - val_loss: 4.2781 - val_accuracy: 0.7940 - 5s/epoch - 8ms/step\n",
      "Epoch 68/100\n",
      "625/625 - 5s - loss: 0.0025 - accuracy: 0.9994 - val_loss: 4.3208 - val_accuracy: 0.7943 - 5s/epoch - 8ms/step\n",
      "Epoch 69/100\n",
      "625/625 - 5s - loss: 0.0018 - accuracy: 0.9995 - val_loss: 4.3103 - val_accuracy: 0.7940 - 5s/epoch - 8ms/step\n",
      "Epoch 70/100\n",
      "625/625 - 5s - loss: 0.0015 - accuracy: 0.9996 - val_loss: 4.3362 - val_accuracy: 0.7951 - 5s/epoch - 8ms/step\n",
      "Epoch 71/100\n",
      "625/625 - 5s - loss: 0.0017 - accuracy: 0.9995 - val_loss: 4.3362 - val_accuracy: 0.7921 - 5s/epoch - 8ms/step\n",
      "Epoch 72/100\n",
      "625/625 - 5s - loss: 0.0019 - accuracy: 0.9994 - val_loss: 4.4001 - val_accuracy: 0.7936 - 5s/epoch - 8ms/step\n",
      "Epoch 73/100\n",
      "625/625 - 5s - loss: 0.0017 - accuracy: 0.9994 - val_loss: 4.3869 - val_accuracy: 0.7949 - 5s/epoch - 8ms/step\n",
      "Epoch 74/100\n",
      "625/625 - 5s - loss: 0.0023 - accuracy: 0.9992 - val_loss: 4.3977 - val_accuracy: 0.7961 - 5s/epoch - 8ms/step\n",
      "Epoch 75/100\n",
      "625/625 - 5s - loss: 0.0021 - accuracy: 0.9993 - val_loss: 4.4132 - val_accuracy: 0.7946 - 5s/epoch - 8ms/step\n",
      "Epoch 76/100\n",
      "625/625 - 5s - loss: 0.0014 - accuracy: 0.9996 - val_loss: 4.4300 - val_accuracy: 0.7928 - 5s/epoch - 8ms/step\n",
      "Epoch 77/100\n",
      "625/625 - 5s - loss: 0.0013 - accuracy: 0.9996 - val_loss: 4.4380 - val_accuracy: 0.7942 - 5s/epoch - 8ms/step\n",
      "Epoch 78/100\n",
      "625/625 - 5s - loss: 0.0018 - accuracy: 0.9994 - val_loss: 4.4479 - val_accuracy: 0.7927 - 5s/epoch - 8ms/step\n",
      "Epoch 79/100\n",
      "625/625 - 5s - loss: 0.0018 - accuracy: 0.9995 - val_loss: 4.5019 - val_accuracy: 0.7948 - 5s/epoch - 8ms/step\n",
      "Epoch 80/100\n",
      "625/625 - 5s - loss: 0.0017 - accuracy: 0.9992 - val_loss: 4.5778 - val_accuracy: 0.7964 - 5s/epoch - 8ms/step\n",
      "Epoch 81/100\n",
      "625/625 - 5s - loss: 0.0015 - accuracy: 0.9996 - val_loss: 4.5236 - val_accuracy: 0.7964 - 5s/epoch - 8ms/step\n",
      "Epoch 82/100\n",
      "625/625 - 5s - loss: 0.0025 - accuracy: 0.9994 - val_loss: 4.5340 - val_accuracy: 0.7965 - 5s/epoch - 8ms/step\n",
      "Epoch 83/100\n",
      "625/625 - 5s - loss: 0.0013 - accuracy: 0.9995 - val_loss: 4.5301 - val_accuracy: 0.7921 - 5s/epoch - 8ms/step\n",
      "Epoch 84/100\n",
      "625/625 - 5s - loss: 0.0010 - accuracy: 0.9996 - val_loss: 4.5612 - val_accuracy: 0.7946 - 5s/epoch - 8ms/step\n",
      "Epoch 85/100\n",
      "625/625 - 5s - loss: 0.0016 - accuracy: 0.9994 - val_loss: 4.5975 - val_accuracy: 0.7906 - 5s/epoch - 8ms/step\n",
      "Epoch 86/100\n",
      "625/625 - 5s - loss: 0.0014 - accuracy: 0.9996 - val_loss: 4.6497 - val_accuracy: 0.7934 - 5s/epoch - 8ms/step\n",
      "Epoch 87/100\n",
      "625/625 - 5s - loss: 0.0016 - accuracy: 0.9994 - val_loss: 4.6559 - val_accuracy: 0.7925 - 5s/epoch - 8ms/step\n",
      "Epoch 88/100\n",
      "625/625 - 5s - loss: 0.0014 - accuracy: 0.9996 - val_loss: 4.6594 - val_accuracy: 0.7934 - 5s/epoch - 8ms/step\n",
      "Epoch 89/100\n",
      "625/625 - 5s - loss: 0.0013 - accuracy: 0.9995 - val_loss: 4.7070 - val_accuracy: 0.7940 - 5s/epoch - 8ms/step\n",
      "Epoch 90/100\n",
      "625/625 - 5s - loss: 0.0024 - accuracy: 0.9992 - val_loss: 4.7179 - val_accuracy: 0.7943 - 5s/epoch - 8ms/step\n",
      "Epoch 91/100\n",
      "625/625 - 5s - loss: 0.0022 - accuracy: 0.9992 - val_loss: 4.6937 - val_accuracy: 0.7931 - 5s/epoch - 8ms/step\n",
      "Epoch 92/100\n",
      "625/625 - 5s - loss: 0.0017 - accuracy: 0.9995 - val_loss: 4.7339 - val_accuracy: 0.7897 - 5s/epoch - 8ms/step\n",
      "Epoch 93/100\n",
      "625/625 - 5s - loss: 0.0013 - accuracy: 0.9996 - val_loss: 4.7486 - val_accuracy: 0.7906 - 5s/epoch - 8ms/step\n",
      "Epoch 94/100\n",
      "625/625 - 5s - loss: 0.0012 - accuracy: 0.9996 - val_loss: 4.7544 - val_accuracy: 0.7901 - 5s/epoch - 8ms/step\n",
      "Epoch 95/100\n",
      "625/625 - 5s - loss: 8.6590e-04 - accuracy: 0.9995 - val_loss: 4.8319 - val_accuracy: 0.7907 - 5s/epoch - 8ms/step\n",
      "Epoch 96/100\n",
      "625/625 - 5s - loss: 0.0011 - accuracy: 0.9997 - val_loss: 4.8062 - val_accuracy: 0.7892 - 5s/epoch - 8ms/step\n",
      "Epoch 97/100\n",
      "625/625 - 5s - loss: 0.0013 - accuracy: 0.9996 - val_loss: 4.8287 - val_accuracy: 0.7919 - 5s/epoch - 8ms/step\n",
      "Epoch 98/100\n",
      "625/625 - 5s - loss: 0.0020 - accuracy: 0.9995 - val_loss: 4.7903 - val_accuracy: 0.7913 - 5s/epoch - 8ms/step\n",
      "Epoch 99/100\n",
      "625/625 - 5s - loss: 0.0011 - accuracy: 0.9997 - val_loss: 4.8553 - val_accuracy: 0.7933 - 5s/epoch - 8ms/step\n",
      "Epoch 100/100\n",
      "625/625 - 5s - loss: 8.7030e-04 - accuracy: 0.9997 - val_loss: 4.8363 - val_accuracy: 0.7919 - 5s/epoch - 8ms/step\n"
     ]
    }
   ],
   "source": [
    "num_epochs = 100\n",
    "\n",
    "# Train the model\n",
    "history = model.fit(training_padded, training_labels, epochs=num_epochs, validation_data=(testing_padded, testing_labels), verbose=2)"
   ]
  },
  {
   "cell_type": "markdown",
   "metadata": {
    "id": "L_bWhGOSJLLm"
   },
   "source": [
    "## Visualize the Results\n",
    "\n",
    "You can use the cell below to plot the training results. You may notice some overfitting because your validation accuracy is slowly dropping while the training accuracy is still going up. See if you can improve it by tweaking the hyperparameters. Some example values are shown in the lectures."
   ]
  },
  {
   "cell_type": "code",
   "execution_count": null,
   "metadata": {
    "id": "2HYfBKXjkmU8"
   },
   "outputs": [],
   "source": [
    "import matplotlib.pyplot as plt\n",
    "\n",
    "# Plot utility\n",
    "def plot_graphs(history, string):\n",
    "  plt.plot(history.history[string])\n",
    "  plt.plot(history.history['val_'+string])\n",
    "  plt.xlabel(\"Epochs\")\n",
    "  plt.ylabel(string)\n",
    "  plt.legend([string, 'val_'+string])\n",
    "  plt.show()\n",
    "  \n",
    "# Plot the accuracy and loss\n",
    "plot_graphs(history, \"accuracy\")\n",
    "plot_graphs(history, \"loss\")"
   ]
  },
  {
   "cell_type": "markdown",
   "metadata": {
    "id": "JN6kaxxcJQgd"
   },
   "source": [
    "## Visualize Word Embeddings\n",
    "\n",
    "As before, you can visualize the final weights of the embeddings using the [Tensorflow Embedding Projector](https://projector.tensorflow.org/)."
   ]
  },
  {
   "cell_type": "code",
   "execution_count": null,
   "metadata": {
    "id": "c9MqihtEkzQ9"
   },
   "outputs": [],
   "source": [
    "# Get the index-word dictionary\n",
    "reverse_word_index = tokenizer.index_word\n",
    "\n",
    "# Get the embedding layer from the model (i.e. first layer)\n",
    "embedding_layer = model.layers[0]\n",
    "\n",
    "# Get the weights of the embedding layer\n",
    "embedding_weights = embedding_layer.get_weights()[0]\n",
    "\n",
    "# Print the shape. Expected is (vocab_size, embedding_dim)\n",
    "print(embedding_weights.shape) \n"
   ]
  },
  {
   "cell_type": "code",
   "execution_count": null,
   "metadata": {
    "id": "LoBXVffknldU"
   },
   "outputs": [],
   "source": [
    "import io\n",
    "\n",
    "# Open writeable files\n",
    "out_v = io.open('vecs.tsv', 'w', encoding='utf-8')\n",
    "out_m = io.open('meta.tsv', 'w', encoding='utf-8')\n",
    "\n",
    "# Initialize the loop. Start counting at `1` because `0` is just for the padding\n",
    "for word_num in range(1, vocab_size):\n",
    "\n",
    "  # Get the word associated at the current index\n",
    "  word_name = reverse_word_index[word_num]\n",
    "\n",
    "  # Get the embedding weights associated with the current index\n",
    "  word_embedding = embedding_weights[word_num]\n",
    "\n",
    "  # Write the word name\n",
    "  out_m.write(word_name + \"\\n\")\n",
    "\n",
    "  # Write the word embedding\n",
    "  out_v.write('\\t'.join([str(x) for x in word_embedding]) + \"\\n\")\n",
    "\n",
    "# Close the files\n",
    "out_v.close()\n",
    "out_m.close()"
   ]
  },
  {
   "cell_type": "code",
   "execution_count": null,
   "metadata": {
    "id": "U4eZ5HtVnnEE"
   },
   "outputs": [],
   "source": [
    "# Import files utilities in Colab\n",
    "try:\n",
    "  from google.colab import files\n",
    "except ImportError:\n",
    "  pass\n",
    "\n",
    "# Download the files\n",
    "else:\n",
    "  files.download('vecs.tsv')\n",
    "  files.download('meta.tsv')"
   ]
  },
  {
   "cell_type": "markdown",
   "metadata": {
    "id": "1GierJvdJWMt"
   },
   "source": [
    "## Wrap Up\n",
    "\n",
    "In this lab, you were able to build a binary classifier to detect sarcasm. You saw some overfitting in the initial attempt and hopefully, you were able to arrive at a better set of hyperparameters.\n",
    "\n",
    "So far, you've been tokenizing datasets from scratch and you're treating the vocab size as a hyperparameter. Furthermore, you're tokenizing the texts by building a vocabulary of full words. In the next lab, you will make use of a pre-tokenized dataset that uses a vocabulary of *subwords*. For instance, instead of having a uniqe token for the word `Tensorflow`, it will instead have a token each for `Ten`, `sor`, and `flow`. You will see the motivation and implications of having this design in the next exercise. See you there!"
   ]
  }
 ],
 "metadata": {
  "colab": {
   "collapsed_sections": [],
   "name": "C3_W2_Lab_2_sarcasm_classifier.ipynb",
   "private_outputs": true,
   "provenance": []
  },
  "kernelspec": {
   "display_name": "Python 3 (ipykernel)",
   "language": "python",
   "name": "python3"
  },
  "language_info": {
   "codemirror_mode": {
    "name": "ipython",
    "version": 3
   },
   "file_extension": ".py",
   "mimetype": "text/x-python",
   "name": "python",
   "nbconvert_exporter": "python",
   "pygments_lexer": "ipython3",
   "version": "3.8.16"
  }
 },
 "nbformat": 4,
 "nbformat_minor": 4
}
