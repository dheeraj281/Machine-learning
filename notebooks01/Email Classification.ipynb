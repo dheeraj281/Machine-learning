{
 "cells": [
  {
   "cell_type": "code",
   "execution_count": 51,
   "id": "8d598876-69d4-40e9-8479-2c3f4f2e4ac8",
   "metadata": {},
   "outputs": [],
   "source": [
    "import csv,random,pickle,os,zipfile,string,keras\n",
    "import numpy as np\n",
    "import tensorflow as tf\n",
    "import matplotlib.pyplot as plt\n",
    "import pandas as pd\n",
    "import tensorflow_hub as hub\n",
    "#########################################################\n",
    "from tensorflow.keras.preprocessing.text import Tokenizer\n",
    "from tensorflow.keras.preprocessing.sequence import pad_sequences\n",
    "###################################################################\n",
    "from nltk import WordNetLemmatizer, PorterStemmer\n",
    "from nltk.corpus import stopwords\n",
    "from nltk.tokenize import word_tokenize\n",
    "#########################################################\n",
    "from keras.utils import to_categorical\n",
    "from keras.callbacks import EarlyStopping, ReduceLROnPlateau\n",
    "from keras.layers import TextVectorization\n",
    "#########################################################\n",
    "from sklearn.preprocessing import LabelEncoder\n",
    "from sklearn.model_selection import train_test_split\n",
    "from sklearn.utils import resample\n",
    "#########################################################\n",
    "from scipy.stats import linregress\n",
    "from unidecode import unidecode"
   ]
  },
  {
   "cell_type": "code",
   "execution_count": 88,
   "id": "0625d9a8-0ded-4b17-8941-f96629f55c37",
   "metadata": {},
   "outputs": [],
   "source": [
    "def step_1_get_dataframe(filename, filetype=\"json\",encoding=None):\n",
    "    if filetype == \"csv\":\n",
    "        train_df = pd.read_csv(filename,encoding=encoding)\n",
    "    if filetype == \"json\":\n",
    "        train_df = pd.read_json(filename,encoding=encoding)\n",
    "    train_df.drop_duplicates(keep='first').count()\n",
    "    train_df = train_df.dropna()\n",
    "    train_df_shuffled = train_df.sample(frac=1, random_state=42)  # shuffle with random_state=42 for reproducibility\n",
    "    print(train_df_shuffled.head())\n",
    "    print(train_df_shuffled.columns)\n",
    "    return train_df_shuffled\n",
    "\n",
    "def remove_columns(df, cols: list, ):\n",
    "    df.drop(cols, axis=1, inplace=True)\n",
    "    print(df.head)\n",
    "    print(df.columns)\n",
    "    return df\n",
    "\n",
    "def label_count_rebalancing(df,labels):\n",
    "    dataframes = []\n",
    "    print(\"### Old count: \")\n",
    "    print(df.labels.value_counts())\n",
    "    for label in labels:\n",
    "        dataframes.append(df[df['labels'] == label])\n",
    "\n",
    "    lowest = 9999999999\n",
    "    for df in dataframes:\n",
    "        if len(df) < lowest:\n",
    "            lowest = len(df)\n",
    "\n",
    "    balanced_df = []\n",
    "    for df in dataframes:\n",
    "        balanced_df.append(\n",
    "            resample(df, replace=False, n_samples=lowest)\n",
    "        )\n",
    "\n",
    "    train_df = pd.concat(balanced_df)\n",
    "    print(f\"### New counts \")\n",
    "    print(train_df.labels.value_counts())\n",
    "    return train_df.sample(frac=1, random_state=42)\n",
    "\n",
    "def rename_column(df,original, new, ):\n",
    "    df.rename({original: new}, axis=1, inplace=True)\n",
    "    print(df.columns)\n",
    "    return df"
   ]
  },
  {
   "cell_type": "code",
   "execution_count": 115,
   "id": "e201dda2-d350-4d37-ad6f-e0cc9cc6173e",
   "metadata": {},
   "outputs": [
    {
     "name": "stdout",
     "output_type": "stream",
     "text": [
      "     S. No.                                       Message_body     Label\n",
      "835     836                          K:)eng rocking in ashes:)  Non-Spam\n",
      "477     478     No no. I will check all rooms befor activities  Non-Spam\n",
      "350     351          I accidentally brought em home in the box  Non-Spam\n",
      "890     891                            Ü ready then call me...  Non-Spam\n",
      "854     855  Thats cool princess! I will cover your face in...  Non-Spam\n",
      "Index(['S. No.', 'Message_body', 'Label'], dtype='object')\n",
      "    S. No.                                       Message_body     Label\n",
      "18      19  Call Germany for only 1 pence per minute! Call...      Spam\n",
      "42      43  You'll not rcv any more msgs from the chat svc...      Spam\n",
      "36      37  URGENT! We are trying to contact you. Last wee...      Spam\n",
      "76      77            Have you laid your airtel line to rest?  Non-Spam\n",
      "53      54  As a valued customer, I am pleased to advise y...      Spam\n",
      "Index(['S. No.', 'Message_body', 'Label'], dtype='object')\n"
     ]
    }
   ],
   "source": [
    "train_df = step_1_get_dataframe(\"email_data/SMS_train.csv\",\"csv\",'ISO-8859-1')\n",
    "val_df = step_1_get_dataframe(\"email_data/SMS_test.csv\",\"csv\",'ISO-8859-1')"
   ]
  },
  {
   "cell_type": "code",
   "execution_count": 116,
   "id": "db3d2815-3bc1-4add-b8ba-6d9eaff27549",
   "metadata": {},
   "outputs": [
    {
     "name": "stdout",
     "output_type": "stream",
     "text": [
      "<bound method NDFrame.head of                                           Message_body     Label\n",
      "835                          K:)eng rocking in ashes:)  Non-Spam\n",
      "477     No no. I will check all rooms befor activities  Non-Spam\n",
      "350          I accidentally brought em home in the box  Non-Spam\n",
      "890                            Ü ready then call me...  Non-Spam\n",
      "854  Thats cool princess! I will cover your face in...  Non-Spam\n",
      "..                                                 ...       ...\n",
      "106  I will treasure every moment we spend together...  Non-Spam\n",
      "270  Well good morning mr . Hows london treatin' ya...  Non-Spam\n",
      "860  Wow so healthy. Old airport rd lor. Cant thk o...  Non-Spam\n",
      "435  Hmm... Dunno leh, mayb a bag 4 goigng out dat ...  Non-Spam\n",
      "102  URGENT! Last weekend's draw shows that you hav...      Spam\n",
      "\n",
      "[957 rows x 2 columns]>\n",
      "Index(['Message_body', 'Label'], dtype='object')\n",
      "<bound method NDFrame.head of                                           Message_body     Label\n",
      "18   Call Germany for only 1 pence per minute! Call...      Spam\n",
      "42   You'll not rcv any more msgs from the chat svc...      Spam\n",
      "36   URGENT! We are trying to contact you. Last wee...      Spam\n",
      "76             Have you laid your airtel line to rest?  Non-Spam\n",
      "53   As a valued customer, I am pleased to advise y...      Spam\n",
      "..                                                 ...       ...\n",
      "106                At WHAT TIME should i come tomorrow  Non-Spam\n",
      "14   Ur cash-balance is currently 500 pounds - to m...      Spam\n",
      "92   For ur chance to win a £250 wkly shopping spre...      Spam\n",
      "51   Did you hear about the new \"Divorce Barbie\"? I...      Spam\n",
      "102  URGENT! This is the 2nd attempt to contact U!U...      Spam\n",
      "\n",
      "[125 rows x 2 columns]>\n",
      "Index(['Message_body', 'Label'], dtype='object')\n"
     ]
    }
   ],
   "source": [
    "train_df = remove_columns(train_df,'S. No.')\n",
    "val_df = remove_columns(val_df,'S. No.')"
   ]
  },
  {
   "cell_type": "code",
   "execution_count": 117,
   "id": "67c9b387-07de-4c4d-b935-110d64ebe650",
   "metadata": {},
   "outputs": [
    {
     "name": "stdout",
     "output_type": "stream",
     "text": [
      "Index(['Message_body', 'labels'], dtype='object')\n",
      "Index(['Message_body', 'labels'], dtype='object')\n"
     ]
    }
   ],
   "source": [
    "train_df = rename_column(train_df,\"Label\",\"labels\")\n",
    "val_df = rename_column(val_df,\"Label\",\"labels\")"
   ]
  },
  {
   "cell_type": "code",
   "execution_count": 118,
   "id": "8b6f57f3-ea27-4279-91e0-d867ca6e3195",
   "metadata": {},
   "outputs": [
    {
     "name": "stdout",
     "output_type": "stream",
     "text": [
      "### Old count: \n",
      "labels\n",
      "Non-Spam    835\n",
      "Spam        122\n",
      "Name: count, dtype: int64\n",
      "### New counts \n",
      "labels\n",
      "Non-Spam    122\n",
      "Spam        122\n",
      "Name: count, dtype: int64\n"
     ]
    }
   ],
   "source": [
    "train_df = label_count_rebalancing(train_df,[\"Non-Spam\",\"Spam\"])"
   ]
  },
  {
   "cell_type": "code",
   "execution_count": 119,
   "id": "94fe9f8b-dce8-4544-8020-4fde1ec60cef",
   "metadata": {},
   "outputs": [],
   "source": [
    "label_encoder = LabelEncoder()\n",
    "\n",
    "train_sentences = train_df.Message_body\n",
    "train_labels = label_encoder.fit_transform(train_df.labels)\n",
    "\n",
    "validation_sentences = val_df.Message_body\n",
    "validation_labels = label_encoder.fit_transform(val_df.labels)\n",
    "\n"
   ]
  },
  {
   "cell_type": "code",
   "execution_count": 104,
   "id": "c7a95455-cd19-451f-9185-a43fee607c25",
   "metadata": {},
   "outputs": [
    {
     "data": {
      "text/plain": [
       "18     Call Germany for only 1 pence per minute! Call...\n",
       "42     You'll not rcv any more msgs from the chat svc...\n",
       "36     URGENT! We are trying to contact you. Last wee...\n",
       "76               Have you laid your airtel line to rest?\n",
       "53     As a valued customer, I am pleased to advise y...\n",
       "                             ...                        \n",
       "106                  At WHAT TIME should i come tomorrow\n",
       "14     Ur cash-balance is currently 500 pounds - to m...\n",
       "92     For ur chance to win a £250 wkly shopping spre...\n",
       "51     Did you hear about the new \"Divorce Barbie\"? I...\n",
       "102    URGENT! This is the 2nd attempt to contact U!U...\n",
       "Name: Message_body, Length: 125, dtype: object"
      ]
     },
     "execution_count": 104,
     "metadata": {},
     "output_type": "execute_result"
    }
   ],
   "source": [
    "validation_sentences"
   ]
  },
  {
   "cell_type": "code",
   "execution_count": 94,
   "id": "1332a0d1-c34e-444e-ae56-0ebeda06442b",
   "metadata": {},
   "outputs": [
    {
     "name": "stdout",
     "output_type": "stream",
     "text": [
      "There are 244 sentences for training.\n",
      "\n",
      "There are 244 labels for training.\n",
      "\n",
      "There are 125 sentences for validation.\n",
      "\n",
      "There are 125 labels for validation.\n"
     ]
    }
   ],
   "source": [
    "print(f\"There are {len(train_sentences)} sentences for training.\\n\")\n",
    "print(f\"There are {len(train_labels)} labels for training.\\n\")\n",
    "print(f\"There are {len(validation_sentences)} sentences for validation.\\n\")\n",
    "print(f\"There are {len(validation_labels)} labels for validation.\")"
   ]
  },
  {
   "cell_type": "code",
   "execution_count": 120,
   "id": "f5297111-2bf5-43d0-8c06-fdf404a7a1a3",
   "metadata": {},
   "outputs": [],
   "source": [
    "tokenizer = Tokenizer(oov_token = \"<OOV>\")\n",
    "tokenizer.fit_on_texts(train_sentences)"
   ]
  },
  {
   "cell_type": "code",
   "execution_count": 121,
   "id": "4f178cfe-222e-4b81-a3b2-9abc73fe7623",
   "metadata": {},
   "outputs": [],
   "source": [
    "word_index = tokenizer.word_index\n",
    "VOCAB_SIZE = len(word_index)"
   ]
  },
  {
   "cell_type": "code",
   "execution_count": 122,
   "id": "9a8cbf09-fbdf-45b6-a3e4-4b4d67d75126",
   "metadata": {},
   "outputs": [],
   "source": [
    "train_seqs = tokenizer.texts_to_sequences(train_sentences)\n",
    "val_seqs = tokenizer.texts_to_sequences(validation_sentences)"
   ]
  },
  {
   "cell_type": "code",
   "execution_count": 123,
   "id": "948ac627-bf2d-4611-bef1-2a5b11d0d50a",
   "metadata": {},
   "outputs": [],
   "source": [
    "train_pad_sqs = pad_sequences(train_seqs,maxlen=30,padding=\"post\",truncating=\"post\")\n",
    "val_pad_seqs = pad_sequences(val_seqs,maxlen=30,padding=\"post\",truncating=\"post\")"
   ]
  },
  {
   "cell_type": "code",
   "execution_count": 124,
   "id": "0dec29e2-d1c0-4099-bfaa-1d773ca1235e",
   "metadata": {},
   "outputs": [],
   "source": [
    "model = tf.keras.models.Sequential(\n",
    "    [\n",
    "        tf.keras.layers.Embedding(input_dim=VOCAB_SIZE,output_dim=64,input_length=30),\n",
    "        tf.keras.layers.LSTM(16,return_sequences=True),\n",
    "        tf.keras.layers.LSTM(8),\n",
    "        tf.keras.layers.Dense(4, activation='relu'),\n",
    "        tf.keras.layers.Dense(1, activation='sigmoid')\n",
    "    ]\n",
    ")\n",
    "\n",
    "model.compile(\n",
    "    loss='binary_crossentropy',\n",
    "    optimizer=\"adam\",\n",
    "    metrics=['accuracy']\n",
    ")"
   ]
  },
  {
   "cell_type": "code",
   "execution_count": 125,
   "id": "b6a85c5a-c182-44d9-a4ba-48c7342ac8a8",
   "metadata": {},
   "outputs": [
    {
     "name": "stdout",
     "output_type": "stream",
     "text": [
      "Epoch 1/10\n"
     ]
    },
    {
     "name": "stderr",
     "output_type": "stream",
     "text": [
      "2023-09-30 12:33:44.047043: I tensorflow/core/grappler/optimizers/custom_graph_optimizer_registry.cc:114] Plugin optimizer for device_type GPU is enabled.\n",
      "2023-09-30 12:33:44.235107: I tensorflow/core/grappler/optimizers/custom_graph_optimizer_registry.cc:114] Plugin optimizer for device_type GPU is enabled.\n",
      "2023-09-30 12:33:44.301127: I tensorflow/core/grappler/optimizers/custom_graph_optimizer_registry.cc:114] Plugin optimizer for device_type GPU is enabled.\n",
      "2023-09-30 12:33:44.494313: I tensorflow/core/grappler/optimizers/custom_graph_optimizer_registry.cc:114] Plugin optimizer for device_type GPU is enabled.\n"
     ]
    },
    {
     "name": "stdout",
     "output_type": "stream",
     "text": [
      "1/8 [==>...........................] - ETA: 10s - loss: 0.6937 - accuracy: 0.4375"
     ]
    },
    {
     "name": "stderr",
     "output_type": "stream",
     "text": [
      "2023-09-30 12:33:44.636268: I tensorflow/core/grappler/optimizers/custom_graph_optimizer_registry.cc:114] Plugin optimizer for device_type GPU is enabled.\n"
     ]
    },
    {
     "name": "stdout",
     "output_type": "stream",
     "text": [
      "8/8 [==============================] - ETA: 0s - loss: 0.6900 - accuracy: 0.4754"
     ]
    },
    {
     "name": "stderr",
     "output_type": "stream",
     "text": [
      "2023-09-30 12:33:45.737784: I tensorflow/core/grappler/optimizers/custom_graph_optimizer_registry.cc:114] Plugin optimizer for device_type GPU is enabled.\n",
      "2023-09-30 12:33:45.812487: I tensorflow/core/grappler/optimizers/custom_graph_optimizer_registry.cc:114] Plugin optimizer for device_type GPU is enabled.\n",
      "2023-09-30 12:33:45.876468: I tensorflow/core/grappler/optimizers/custom_graph_optimizer_registry.cc:114] Plugin optimizer for device_type GPU is enabled.\n"
     ]
    },
    {
     "name": "stdout",
     "output_type": "stream",
     "text": [
      "8/8 [==============================] - 3s 196ms/step - loss: 0.6900 - accuracy: 0.4754 - val_loss: 0.6896 - val_accuracy: 0.3920\n",
      "Epoch 2/10\n",
      "8/8 [==============================] - 1s 68ms/step - loss: 0.6766 - accuracy: 0.5492 - val_loss: 0.6801 - val_accuracy: 0.4480\n",
      "Epoch 3/10\n",
      "8/8 [==============================] - 0s 57ms/step - loss: 0.6579 - accuracy: 0.6680 - val_loss: 0.6672 - val_accuracy: 0.5120\n",
      "Epoch 4/10\n",
      "8/8 [==============================] - 0s 50ms/step - loss: 0.6306 - accuracy: 0.7582 - val_loss: 0.6418 - val_accuracy: 0.6400\n",
      "Epoch 5/10\n",
      "8/8 [==============================] - 0s 47ms/step - loss: 0.5815 - accuracy: 0.8279 - val_loss: 0.6033 - val_accuracy: 0.7120\n",
      "Epoch 6/10\n",
      "8/8 [==============================] - 0s 39ms/step - loss: 0.5118 - accuracy: 0.9098 - val_loss: 0.5409 - val_accuracy: 0.8160\n",
      "Epoch 7/10\n",
      "8/8 [==============================] - 0s 41ms/step - loss: 0.4318 - accuracy: 0.9508 - val_loss: 0.4735 - val_accuracy: 0.8880\n",
      "Epoch 8/10\n",
      "8/8 [==============================] - 0s 39ms/step - loss: 0.3579 - accuracy: 0.9795 - val_loss: 0.4065 - val_accuracy: 0.9360\n",
      "Epoch 9/10\n",
      "8/8 [==============================] - 0s 39ms/step - loss: 0.2983 - accuracy: 0.9918 - val_loss: 0.3853 - val_accuracy: 0.9120\n",
      "Epoch 10/10\n",
      "8/8 [==============================] - 0s 35ms/step - loss: 0.2501 - accuracy: 1.0000 - val_loss: 0.3275 - val_accuracy: 0.9200\n"
     ]
    }
   ],
   "source": [
    "history = model.fit(train_pad_sqs,train_labels,epochs=10, validation_data=(val_pad_seqs, validation_labels))"
   ]
  },
  {
   "cell_type": "code",
   "execution_count": 126,
   "id": "a83174ea-8689-4e39-8bff-d55641baaa3c",
   "metadata": {},
   "outputs": [
    {
     "data": {
      "image/png": "[encoded data removed]",
      "text/plain": [
       "<Figure size 640x480 with 1 Axes>"
      ]
     },
     "metadata": {},
     "output_type": "display_data"
    }
   ],
   "source": [
    "#-----------------------------------------------------------\n",
    "# Retrieve a list of list results on training and test data\n",
    "# sets for each training epoch\n",
    "#-----------------------------------------------------------\n",
    "loss = history.history['loss']\n",
    "val_loss = history.history['val_loss']\n",
    "\n",
    "epochs = [*range(10)]\n",
    "\n",
    "#------------------------------------------------\n",
    "# Plot training and validation loss per epoch\n",
    "#------------------------------------------------\n",
    "plt.plot(epochs, loss, 'r')\n",
    "plt.plot(epochs, val_loss, 'b')\n",
    "plt.title('Training and validation loss')\n",
    "plt.xlabel(\"Epochs\")\n",
    "plt.ylabel(\"Loss\")\n",
    "plt.legend([\"Loss\", \"Validation Loss\"])\n",
    "plt.show()"
   ]
  },
  {
   "cell_type": "code",
   "execution_count": 108,
   "id": "a751aac3-5a60-484f-8bbc-b8d32f4ed134",
   "metadata": {},
   "outputs": [
    {
     "name": "stdout",
     "output_type": "stream",
     "text": [
      "The slope of your validation loss curve is -0.03708\n"
     ]
    }
   ],
   "source": [
    "import matplotlib.pyplot as plt\n",
    "from scipy.stats import linregress\n",
    "\n",
    "# Test the slope of your val_loss curve. val_loss curve should be 0.0005 at maximum.\n",
    "slope, *_ = linregress(epochs, val_loss)\n",
    "print(f\"The slope of your validation loss curve is {slope:.5f}\")"
   ]
  },
  {
   "cell_type": "code",
   "execution_count": null,
   "id": "70898266-4222-46d2-a505-d952ecb08411",
   "metadata": {},
   "outputs": [],
   "source": []
  }
 ],
 "metadata": {
  "kernelspec": {
   "display_name": "Python 3 (ipykernel)",
   "language": "python",
   "name": "python3"
  },
  "language_info": {
   "codemirror_mode": {
    "name": "ipython",
    "version": 3
   },
   "file_extension": ".py",
   "mimetype": "text/x-python",
   "name": "python",
   "nbconvert_exporter": "python",
   "pygments_lexer": "ipython3",
   "version": "3.8.16"
  }
 },
 "nbformat": 4,
 "nbformat_minor": 5
}
